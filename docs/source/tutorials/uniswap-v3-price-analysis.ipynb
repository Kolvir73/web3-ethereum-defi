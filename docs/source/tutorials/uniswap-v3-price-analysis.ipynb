{
 "cells": [
  {
   "cell_type": "markdown",
   "metadata": {},
   "source": [
    "# Uniswap V3 price analysis\n",
    "\n",
    "In this notebook we will show how to download price events from Uniswap V3 to your computer as CSV files and use them to analyse price in each pool.\n",
    "\n",
    "* For more background information, see [this blog post about the topic](https://tradingstrategy.ai/blog/uniswap-data-research-with-jupyter-and-python)\n",
    "\n",
    "* For easier access to data, see also [Trading Strategy historical datasets](https://tradingstrategy.ai/trading-view/backtesting)\n",
    "  where you can batch download historical data in one file\n",
    "\n",
    "* You need to understand [Jupyter Notebook and Pandas basics](https://jakevdp.github.io/PythonDataScienceHandbook/)\n",
    "\n",
    "* You need to understand [Ethereum](https://github.com/ethereumbook/ethereumbook) and [Web3.py basics](https://web3py.readthedocs.io/)\n",
    "\n",
    "* You will need to have [Ethereum API node and its JSON-RPC URL](https://ethereumnodes.com/) in order to pull out the data from Ethereum blockchain. The notebook will interactively ask you for your API key.\n",
    "\n",
    "* You can click *Launch binder* button on this documentation page to automatically open this notebook to be run in\n",
    "  [Binder cloud notebook service](https://mybinder.org/). Note that we recommend to run the notebook\n",
    "  on your local computer, as generated CSV needs are large and take long time to generate."
   ]
  },
  {
   "cell_type": "markdown",
   "metadata": {},
   "source": [
    "### Download the raw data from Ethereum blockchain\n",
    "\n",
    "For simplicity, you can sign up for free access to an Ethereum node for example at [Infura](https://infura.io/), however we recommend you to [run your own Ethereum node](https://tradingstrategy.ai/blog/preparing-a-server-for-hosting-goethereum-full-node)."
   ]
  },
  {
   "cell_type": "code",
   "execution_count": 10,
   "metadata": {},
   "outputs": [],
   "source": [
    "from web3 import Web3, HTTPProvider\n",
    "\n",
    "# Get your node JSON-RPC URL\n",
    "json_rpc_url = input(\"Please enter your Ethereum mainnet JSON-RPC URL here\")\n",
    "web3 = Web3(HTTPProvider(json_rpc_url))"
   ]
  },
  {
   "cell_type": "markdown",
   "metadata": {},
   "source": []
  },
  {
   "cell_type": "markdown",
   "metadata": {},
   "source": [
    "As an example, here we download raw events from first few blocks after Uniswap V3 was deployed.\n",
    "The events will be stored in several CSV files at `/tmp` folder.\n",
    "\n",
    "Depends on your internet connection and latency to the Ethereum node, the scan might take hours. However it can resume in case there is a crash, as we save the last scanned block in a JSON state file."
   ]
  },
  {
   "cell_type": "code",
   "execution_count": 11,
   "metadata": {},
   "outputs": [
    {
     "name": "stdout",
     "output_type": "stream",
     "text": [
      "Restored previous scan state, data until block 12,619,621, we are skipping 250,000 blocks out of 250,000 total\n",
      "Scanning block range 12,619,621 - 12,619,621\n"
     ]
    },
    {
     "data": {
      "application/vnd.jupyter.widget-view+json": {
       "model_id": "c22d1e90b3294a40a5a620d734b94552",
       "version_major": 2,
       "version_minor": 0
      },
      "text/plain": [
       "0it [00:00, ?it/s]"
      ]
     },
     "metadata": {},
     "output_type": "display_data"
    },
    {
     "name": "stdout",
     "output_type": "stream",
     "text": [
      "Wrote 0 PoolCreated events\n",
      "Wrote 0 Swap events\n",
      "Wrote 0 Mint events\n",
      "Wrote 0 Burn events\n"
     ]
    }
   ],
   "source": [
    "from eth_defi.uniswap_v3.constants import UNISWAP_V3_FACTORY_CREATED_AT_BLOCK\n",
    "from eth_defi.uniswap_v3.events import fetch_events_to_csv\n",
    "from eth_defi.event_reader.json_state import JSONFileScanState\n",
    "\n",
    "start_block = UNISWAP_V3_FACTORY_CREATED_AT_BLOCK\n",
    "end_block = UNISWAP_V3_FACTORY_CREATED_AT_BLOCK + 250_000\n",
    "\n",
    "# Stores the last block number of event data we store\n",
    "state = JSONFileScanState(\"/tmp/uniswap-v3-price-scan.json\")\n",
    "\n",
    "fetch_events_to_csv(json_rpc_url, state, start_block=start_block, end_block=end_block)"
   ]
  },
  {
   "cell_type": "markdown",
   "metadata": {},
   "source": [
    "### Analysing Uniswap v3 price formation\n",
    "\n",
    "In Uniswap V3, you can get the current price of any pool from any given moment using swap events."
   ]
  },
  {
   "cell_type": "code",
   "execution_count": 12,
   "metadata": {},
   "outputs": [
    {
     "name": "stdout",
     "output_type": "stream",
     "text": [
      "We have total 1,229,361 swaps in the dataset\n"
     ]
    }
   ],
   "source": [
    "import pandas as pd\n",
    "\n",
    "swap_df = pd.read_csv(\"/tmp/uniswap-v3-swap.csv\")\n",
    "\n",
    "print(f\"We have total {len(swap_df):,} swaps in the dataset\")"
   ]
  },
  {
   "cell_type": "markdown",
   "metadata": {},
   "source": [
    "Choose a pool to analyse, for example: USDC/ETH 0.3%.\n",
    "You can find pool addresses [on Uniswap v3 info site](https://info.uniswap.org/#/)."
   ]
  },
  {
   "cell_type": "code",
   "execution_count": 13,
   "metadata": {},
   "outputs": [
    {
     "name": "stdout",
     "output_type": "stream",
     "text": [
      "Pool 0x8ad599c3A0ff1De082011EFDDc58f1908eb6e6D8 is USDC-WETH, with the fee 0.3000%\n",
      "token0 is <USD Coin (USDC) at 0xA0b86991c6218b36c1d19D4a2e9Eb0cE3606eB48> with 6 decimals\n",
      "token1 is <Wrapped Ether (WETH) at 0xC02aaA39b223FE8D0A0e5C4F27eAD9083C756Cc2> with 18 decimals\n"
     ]
    }
   ],
   "source": [
    "from eth_defi.uniswap_v3.pool import fetch_pool_details\n",
    "\n",
    "pool_address = \"0x8ad599c3A0ff1De082011EFDDc58f1908eb6e6D8\"\n",
    "pool_details = fetch_pool_details(web3, pool_address)\n",
    "\n",
    "print(pool_details)\n",
    "print(\"token0 is\", pool_details.token0, \"with\", pool_details.token0.decimals, \"decimals\")\n",
    "print(\"token1 is\", pool_details.token1, \"with\", pool_details.token1.decimals, \"decimals\")"
   ]
  },
  {
   "cell_type": "markdown",
   "metadata": {},
   "source": [
    "Extract the swaps of this pool from the Uniswap v3 full dataset of all pools."
   ]
  },
  {
   "cell_type": "code",
   "execution_count": 14,
   "metadata": {},
   "outputs": [
    {
     "data": {
      "text/html": [
       "<div>\n",
       "<style scoped>\n",
       "    .dataframe tbody tr th:only-of-type {\n",
       "        vertical-align: middle;\n",
       "    }\n",
       "\n",
       "    .dataframe tbody tr th {\n",
       "        vertical-align: top;\n",
       "    }\n",
       "\n",
       "    .dataframe thead th {\n",
       "        text-align: right;\n",
       "    }\n",
       "</style>\n",
       "<table border=\"1\" class=\"dataframe\">\n",
       "  <thead>\n",
       "    <tr style=\"text-align: right;\">\n",
       "      <th></th>\n",
       "      <th>block_number</th>\n",
       "      <th>timestamp</th>\n",
       "      <th>tx_hash</th>\n",
       "      <th>log_index</th>\n",
       "      <th>pool_contract_address</th>\n",
       "      <th>amount0</th>\n",
       "      <th>amount1</th>\n",
       "      <th>sqrt_price_x96</th>\n",
       "      <th>liquidity</th>\n",
       "      <th>tick</th>\n",
       "    </tr>\n",
       "  </thead>\n",
       "  <tbody>\n",
       "    <tr>\n",
       "      <th>19</th>\n",
       "      <td>12371376</td>\n",
       "      <td>2021-05-05T01:56:23</td>\n",
       "      <td>0xce7c3c307d820785caa12938012372fc9366a614a6aa...</td>\n",
       "      <td>26</td>\n",
       "      <td>0x8ad599c3a0ff1de082011efddc58f1908eb6e6d8</td>\n",
       "      <td>-329608</td>\n",
       "      <td>100000000000000</td>\n",
       "      <td>1377932816571815120446551350158799</td>\n",
       "      <td>4303369674465501</td>\n",
       "      <td>195285</td>\n",
       "    </tr>\n",
       "    <tr>\n",
       "      <th>21</th>\n",
       "      <td>12373132</td>\n",
       "      <td>2021-05-05T08:23:26</td>\n",
       "      <td>0x9a1c51b0bffbf840948f3b6e3f3e495ba1cd3fa64854...</td>\n",
       "      <td>192</td>\n",
       "      <td>0x8ad599c3a0ff1de082011efddc58f1908eb6e6d8</td>\n",
       "      <td>-164694492</td>\n",
       "      <td>50000000000000000</td>\n",
       "      <td>1378850591292581266780357299649652</td>\n",
       "      <td>4303369674465501</td>\n",
       "      <td>195298</td>\n",
       "    </tr>\n",
       "    <tr>\n",
       "      <th>25</th>\n",
       "      <td>12373520</td>\n",
       "      <td>2021-05-05T09:50:51</td>\n",
       "      <td>0xc58715c62a5bf70a6ca09f0e51546d6cad76c8d4fff0...</td>\n",
       "      <td>8</td>\n",
       "      <td>0x8ad599c3a0ff1de082011efddc58f1908eb6e6d8</td>\n",
       "      <td>-329169</td>\n",
       "      <td>100000000000000</td>\n",
       "      <td>1378852426842022799073024911548633</td>\n",
       "      <td>4303369674465501</td>\n",
       "      <td>195298</td>\n",
       "    </tr>\n",
       "    <tr>\n",
       "      <th>26</th>\n",
       "      <td>12374077</td>\n",
       "      <td>2021-05-05T11:59:57</td>\n",
       "      <td>0x288c21b8b4fbf449b1d086a06e43b124ac2bc088c3f5...</td>\n",
       "      <td>86</td>\n",
       "      <td>0x8ad599c3a0ff1de082011efddc58f1908eb6e6d8</td>\n",
       "      <td>2</td>\n",
       "      <td>-329169</td>\n",
       "      <td>1378852426842016741051966412054516</td>\n",
       "      <td>4304946248093346</td>\n",
       "      <td>195298</td>\n",
       "    </tr>\n",
       "    <tr>\n",
       "      <th>27</th>\n",
       "      <td>12374320</td>\n",
       "      <td>2021-05-05T12:56:56</td>\n",
       "      <td>0x67502d8ba373287f6d301f6baa77c5a5f4c80d0753c3...</td>\n",
       "      <td>257</td>\n",
       "      <td>0x8ad599c3a0ff1de082011efddc58f1908eb6e6d8</td>\n",
       "      <td>1559137299</td>\n",
       "      <td>-467880854065813753</td>\n",
       "      <td>1370241555019945317645788135487819</td>\n",
       "      <td>4304946248093346</td>\n",
       "      <td>195173</td>\n",
       "    </tr>\n",
       "    <tr>\n",
       "      <th>...</th>\n",
       "      <td>...</td>\n",
       "      <td>...</td>\n",
       "      <td>...</td>\n",
       "      <td>...</td>\n",
       "      <td>...</td>\n",
       "      <td>...</td>\n",
       "      <td>...</td>\n",
       "      <td>...</td>\n",
       "      <td>...</td>\n",
       "      <td>...</td>\n",
       "    </tr>\n",
       "    <tr>\n",
       "      <th>1229165</th>\n",
       "      <td>12619596</td>\n",
       "      <td>2021-06-12T12:16:13</td>\n",
       "      <td>0x8c1f6c5639b304eb0087c2b6d5b65e32ee4f1a51e8b0...</td>\n",
       "      <td>112</td>\n",
       "      <td>0x8ad599c3a0ff1de082011efddc58f1908eb6e6d8</td>\n",
       "      <td>92432639474</td>\n",
       "      <td>-38329545577539549888</td>\n",
       "      <td>1615736234513681125600943820478722</td>\n",
       "      <td>25998097729965548918</td>\n",
       "      <td>198469</td>\n",
       "    </tr>\n",
       "    <tr>\n",
       "      <th>1229184</th>\n",
       "      <td>12619598</td>\n",
       "      <td>2021-06-12T12:16:25</td>\n",
       "      <td>0xac8e34aa704a1ab4068bd93d4b5aef0fb7655d292fc9...</td>\n",
       "      <td>3</td>\n",
       "      <td>0x8ad599c3a0ff1de082011efddc58f1908eb6e6d8</td>\n",
       "      <td>76760509615</td>\n",
       "      <td>-31826486546079303210</td>\n",
       "      <td>1615639241428978886102798535892145</td>\n",
       "      <td>25997255949450154096</td>\n",
       "      <td>198468</td>\n",
       "    </tr>\n",
       "    <tr>\n",
       "      <th>1229186</th>\n",
       "      <td>12619598</td>\n",
       "      <td>2021-06-12T12:16:25</td>\n",
       "      <td>0x0752c6529f939f046c7f9648e8d27d76b1cf767d6902...</td>\n",
       "      <td>8</td>\n",
       "      <td>0x8ad599c3a0ff1de082011efddc58f1908eb6e6d8</td>\n",
       "      <td>482579746068</td>\n",
       "      <td>-200000000000000000000</td>\n",
       "      <td>1615029729696907486273078115160620</td>\n",
       "      <td>25997255949450154096</td>\n",
       "      <td>198460</td>\n",
       "    </tr>\n",
       "    <tr>\n",
       "      <th>1229190</th>\n",
       "      <td>12619598</td>\n",
       "      <td>2021-06-12T12:16:25</td>\n",
       "      <td>0xbd9193ff70e4828a43679f955c9707fa63fe1dabeed3...</td>\n",
       "      <td>45</td>\n",
       "      <td>0x8ad599c3a0ff1de082011efddc58f1908eb6e6d8</td>\n",
       "      <td>679981136491</td>\n",
       "      <td>-281554906013205614934</td>\n",
       "      <td>1614171674604720940565192048438458</td>\n",
       "      <td>25997255949450154096</td>\n",
       "      <td>198449</td>\n",
       "    </tr>\n",
       "    <tr>\n",
       "      <th>1229350</th>\n",
       "      <td>12619619</td>\n",
       "      <td>2021-06-12T12:21:51</td>\n",
       "      <td>0x91f7b948333f452324270b09d6cb074b69dda7647f4c...</td>\n",
       "      <td>281</td>\n",
       "      <td>0x8ad599c3a0ff1de082011efddc58f1908eb6e6d8</td>\n",
       "      <td>8388626</td>\n",
       "      <td>-3471572647773651</td>\n",
       "      <td>1614171664025625771996673894396803</td>\n",
       "      <td>25999040327671324243</td>\n",
       "      <td>198449</td>\n",
       "    </tr>\n",
       "  </tbody>\n",
       "</table>\n",
       "<p>64090 rows × 10 columns</p>\n",
       "</div>"
      ],
      "text/plain": [
       "         block_number            timestamp  \\\n",
       "19           12371376  2021-05-05T01:56:23   \n",
       "21           12373132  2021-05-05T08:23:26   \n",
       "25           12373520  2021-05-05T09:50:51   \n",
       "26           12374077  2021-05-05T11:59:57   \n",
       "27           12374320  2021-05-05T12:56:56   \n",
       "...               ...                  ...   \n",
       "1229165      12619596  2021-06-12T12:16:13   \n",
       "1229184      12619598  2021-06-12T12:16:25   \n",
       "1229186      12619598  2021-06-12T12:16:25   \n",
       "1229190      12619598  2021-06-12T12:16:25   \n",
       "1229350      12619619  2021-06-12T12:21:51   \n",
       "\n",
       "                                                   tx_hash  log_index  \\\n",
       "19       0xce7c3c307d820785caa12938012372fc9366a614a6aa...         26   \n",
       "21       0x9a1c51b0bffbf840948f3b6e3f3e495ba1cd3fa64854...        192   \n",
       "25       0xc58715c62a5bf70a6ca09f0e51546d6cad76c8d4fff0...          8   \n",
       "26       0x288c21b8b4fbf449b1d086a06e43b124ac2bc088c3f5...         86   \n",
       "27       0x67502d8ba373287f6d301f6baa77c5a5f4c80d0753c3...        257   \n",
       "...                                                    ...        ...   \n",
       "1229165  0x8c1f6c5639b304eb0087c2b6d5b65e32ee4f1a51e8b0...        112   \n",
       "1229184  0xac8e34aa704a1ab4068bd93d4b5aef0fb7655d292fc9...          3   \n",
       "1229186  0x0752c6529f939f046c7f9648e8d27d76b1cf767d6902...          8   \n",
       "1229190  0xbd9193ff70e4828a43679f955c9707fa63fe1dabeed3...         45   \n",
       "1229350  0x91f7b948333f452324270b09d6cb074b69dda7647f4c...        281   \n",
       "\n",
       "                              pool_contract_address       amount0  \\\n",
       "19       0x8ad599c3a0ff1de082011efddc58f1908eb6e6d8       -329608   \n",
       "21       0x8ad599c3a0ff1de082011efddc58f1908eb6e6d8    -164694492   \n",
       "25       0x8ad599c3a0ff1de082011efddc58f1908eb6e6d8       -329169   \n",
       "26       0x8ad599c3a0ff1de082011efddc58f1908eb6e6d8             2   \n",
       "27       0x8ad599c3a0ff1de082011efddc58f1908eb6e6d8    1559137299   \n",
       "...                                             ...           ...   \n",
       "1229165  0x8ad599c3a0ff1de082011efddc58f1908eb6e6d8   92432639474   \n",
       "1229184  0x8ad599c3a0ff1de082011efddc58f1908eb6e6d8   76760509615   \n",
       "1229186  0x8ad599c3a0ff1de082011efddc58f1908eb6e6d8  482579746068   \n",
       "1229190  0x8ad599c3a0ff1de082011efddc58f1908eb6e6d8  679981136491   \n",
       "1229350  0x8ad599c3a0ff1de082011efddc58f1908eb6e6d8       8388626   \n",
       "\n",
       "                        amount1                      sqrt_price_x96  \\\n",
       "19              100000000000000  1377932816571815120446551350158799   \n",
       "21            50000000000000000  1378850591292581266780357299649652   \n",
       "25              100000000000000  1378852426842022799073024911548633   \n",
       "26                      -329169  1378852426842016741051966412054516   \n",
       "27          -467880854065813753  1370241555019945317645788135487819   \n",
       "...                         ...                                 ...   \n",
       "1229165   -38329545577539549888  1615736234513681125600943820478722   \n",
       "1229184   -31826486546079303210  1615639241428978886102798535892145   \n",
       "1229186  -200000000000000000000  1615029729696907486273078115160620   \n",
       "1229190  -281554906013205614934  1614171674604720940565192048438458   \n",
       "1229350       -3471572647773651  1614171664025625771996673894396803   \n",
       "\n",
       "                    liquidity    tick  \n",
       "19           4303369674465501  195285  \n",
       "21           4303369674465501  195298  \n",
       "25           4303369674465501  195298  \n",
       "26           4304946248093346  195298  \n",
       "27           4304946248093346  195173  \n",
       "...                       ...     ...  \n",
       "1229165  25998097729965548918  198469  \n",
       "1229184  25997255949450154096  198468  \n",
       "1229186  25997255949450154096  198460  \n",
       "1229190  25997255949450154096  198449  \n",
       "1229350  25999040327671324243  198449  \n",
       "\n",
       "[64090 rows x 10 columns]"
      ]
     },
     "execution_count": 14,
     "metadata": {},
     "output_type": "execute_result"
    }
   ],
   "source": [
    "df = swap_df.loc[swap_df.pool_contract_address == pool_address.lower()]\n",
    "df"
   ]
  },
  {
   "cell_type": "markdown",
   "metadata": {},
   "source": [
    "In Uniswap V3, we can get pool's price from pool's tick."
   ]
  },
  {
   "cell_type": "code",
   "execution_count": 15,
   "metadata": {},
   "outputs": [
    {
     "data": {
      "text/html": [
       "<div>\n",
       "<style scoped>\n",
       "    .dataframe tbody tr th:only-of-type {\n",
       "        vertical-align: middle;\n",
       "    }\n",
       "\n",
       "    .dataframe tbody tr th {\n",
       "        vertical-align: top;\n",
       "    }\n",
       "\n",
       "    .dataframe thead th {\n",
       "        text-align: right;\n",
       "    }\n",
       "</style>\n",
       "<table border=\"1\" class=\"dataframe\">\n",
       "  <thead>\n",
       "    <tr style=\"text-align: right;\">\n",
       "      <th></th>\n",
       "      <th>block_number</th>\n",
       "      <th>timestamp</th>\n",
       "      <th>tick</th>\n",
       "      <th>price</th>\n",
       "      <th>value</th>\n",
       "    </tr>\n",
       "  </thead>\n",
       "  <tbody>\n",
       "    <tr>\n",
       "      <th>19</th>\n",
       "      <td>12371376</td>\n",
       "      <td>2021-05-05T01:56:23</td>\n",
       "      <td>195285</td>\n",
       "      <td>3306.010571</td>\n",
       "      <td>0.329608</td>\n",
       "    </tr>\n",
       "    <tr>\n",
       "      <th>21</th>\n",
       "      <td>12373132</td>\n",
       "      <td>2021-05-05T08:23:26</td>\n",
       "      <td>195298</td>\n",
       "      <td>3301.715764</td>\n",
       "      <td>164.694492</td>\n",
       "    </tr>\n",
       "    <tr>\n",
       "      <th>25</th>\n",
       "      <td>12373520</td>\n",
       "      <td>2021-05-05T09:50:51</td>\n",
       "      <td>195298</td>\n",
       "      <td>3301.715764</td>\n",
       "      <td>0.329169</td>\n",
       "    </tr>\n",
       "    <tr>\n",
       "      <th>26</th>\n",
       "      <td>12374077</td>\n",
       "      <td>2021-05-05T11:59:57</td>\n",
       "      <td>195298</td>\n",
       "      <td>3301.715764</td>\n",
       "      <td>0.000002</td>\n",
       "    </tr>\n",
       "    <tr>\n",
       "      <th>27</th>\n",
       "      <td>12374320</td>\n",
       "      <td>2021-05-05T12:56:56</td>\n",
       "      <td>195173</td>\n",
       "      <td>3343.244146</td>\n",
       "      <td>1559.137299</td>\n",
       "    </tr>\n",
       "    <tr>\n",
       "      <th>...</th>\n",
       "      <td>...</td>\n",
       "      <td>...</td>\n",
       "      <td>...</td>\n",
       "      <td>...</td>\n",
       "      <td>...</td>\n",
       "    </tr>\n",
       "    <tr>\n",
       "      <th>1229165</th>\n",
       "      <td>12619596</td>\n",
       "      <td>2021-06-12T12:16:13</td>\n",
       "      <td>198469</td>\n",
       "      <td>2404.538795</td>\n",
       "      <td>92432.639474</td>\n",
       "    </tr>\n",
       "    <tr>\n",
       "      <th>1229184</th>\n",
       "      <td>12619598</td>\n",
       "      <td>2021-06-12T12:16:25</td>\n",
       "      <td>198468</td>\n",
       "      <td>2404.779249</td>\n",
       "      <td>76760.509615</td>\n",
       "    </tr>\n",
       "    <tr>\n",
       "      <th>1229186</th>\n",
       "      <td>12619598</td>\n",
       "      <td>2021-06-12T12:16:25</td>\n",
       "      <td>198460</td>\n",
       "      <td>2406.703745</td>\n",
       "      <td>482579.746068</td>\n",
       "    </tr>\n",
       "    <tr>\n",
       "      <th>1229190</th>\n",
       "      <td>12619598</td>\n",
       "      <td>2021-06-12T12:16:25</td>\n",
       "      <td>198449</td>\n",
       "      <td>2409.352444</td>\n",
       "      <td>679981.136491</td>\n",
       "    </tr>\n",
       "    <tr>\n",
       "      <th>1229350</th>\n",
       "      <td>12619619</td>\n",
       "      <td>2021-06-12T12:21:51</td>\n",
       "      <td>198449</td>\n",
       "      <td>2409.352444</td>\n",
       "      <td>8.388626</td>\n",
       "    </tr>\n",
       "  </tbody>\n",
       "</table>\n",
       "<p>64090 rows × 5 columns</p>\n",
       "</div>"
      ],
      "text/plain": [
       "         block_number            timestamp    tick        price          value\n",
       "19           12371376  2021-05-05T01:56:23  195285  3306.010571       0.329608\n",
       "21           12373132  2021-05-05T08:23:26  195298  3301.715764     164.694492\n",
       "25           12373520  2021-05-05T09:50:51  195298  3301.715764       0.329169\n",
       "26           12374077  2021-05-05T11:59:57  195298  3301.715764       0.000002\n",
       "27           12374320  2021-05-05T12:56:56  195173  3343.244146    1559.137299\n",
       "...               ...                  ...     ...          ...            ...\n",
       "1229165      12619596  2021-06-12T12:16:13  198469  2404.538795   92432.639474\n",
       "1229184      12619598  2021-06-12T12:16:25  198468  2404.779249   76760.509615\n",
       "1229186      12619598  2021-06-12T12:16:25  198460  2406.703745  482579.746068\n",
       "1229190      12619598  2021-06-12T12:16:25  198449  2409.352444  679981.136491\n",
       "1229350      12619619  2021-06-12T12:21:51  198449  2409.352444       8.388626\n",
       "\n",
       "[64090 rows x 5 columns]"
      ]
     },
     "execution_count": 15,
     "metadata": {},
     "output_type": "execute_result"
    }
   ],
   "source": [
    "def convert_price(row):\n",
    "    # USDC/WETH pool has reverse token order, so let's flip it WETH/USDC\n",
    "    tick = row[\"tick\"]\n",
    "    return pool_details.convert_price_to_human(tick, reverse_token_order=True)\n",
    "\n",
    "def convert_value(row):\n",
    "    # USDC is token0 and amount0\n",
    "    price = float(row[\"price\"])\n",
    "    return abs(float(row[\"amount0\"])) / (10**pool_details.token0.decimals)\n",
    "\n",
    "df = df.copy(deep=True)  # https://stackoverflow.com/a/60885847/315168\n",
    "df[\"price\"] = df.apply(convert_price, axis=1)\n",
    "df[\"value\"] = df.apply(convert_value, axis=1)\n",
    "df[[\"block_number\", \"timestamp\", \"tick\", \"price\", \"value\"]]"
   ]
  },
  {
   "cell_type": "markdown",
   "metadata": {},
   "source": [
    "Then we can convert linear price data to [OHLC candles](https://tradingstrategy.ai/docs/glossary.html#term-OHLCV)."
   ]
  },
  {
   "cell_type": "code",
   "execution_count": 16,
   "metadata": {
    "collapsed": false,
    "pycharm": {
     "name": "#%%\n"
    }
   },
   "outputs": [
    {
     "data": {
      "text/html": [
       "<div>\n",
       "<style scoped>\n",
       "    .dataframe tbody tr th:only-of-type {\n",
       "        vertical-align: middle;\n",
       "    }\n",
       "\n",
       "    .dataframe tbody tr th {\n",
       "        vertical-align: top;\n",
       "    }\n",
       "\n",
       "    .dataframe thead th {\n",
       "        text-align: right;\n",
       "    }\n",
       "</style>\n",
       "<table border=\"1\" class=\"dataframe\">\n",
       "  <thead>\n",
       "    <tr style=\"text-align: right;\">\n",
       "      <th></th>\n",
       "      <th>open</th>\n",
       "      <th>high</th>\n",
       "      <th>low</th>\n",
       "      <th>close</th>\n",
       "      <th>volume</th>\n",
       "    </tr>\n",
       "    <tr>\n",
       "      <th>timestamp</th>\n",
       "      <th></th>\n",
       "      <th></th>\n",
       "      <th></th>\n",
       "      <th></th>\n",
       "      <th></th>\n",
       "    </tr>\n",
       "  </thead>\n",
       "  <tbody>\n",
       "    <tr>\n",
       "      <th>2021-05-05 00:00:00</th>\n",
       "      <td>3306.010571</td>\n",
       "      <td>3306.010571</td>\n",
       "      <td>3306.010571</td>\n",
       "      <td>3306.010571</td>\n",
       "      <td>3.296080e-01</td>\n",
       "    </tr>\n",
       "    <tr>\n",
       "      <th>2021-05-05 04:00:00</th>\n",
       "      <td>NaN</td>\n",
       "      <td>NaN</td>\n",
       "      <td>NaN</td>\n",
       "      <td>NaN</td>\n",
       "      <td>0.000000e+00</td>\n",
       "    </tr>\n",
       "    <tr>\n",
       "      <th>2021-05-05 08:00:00</th>\n",
       "      <td>3301.715764</td>\n",
       "      <td>3301.715764</td>\n",
       "      <td>3301.715764</td>\n",
       "      <td>3301.715764</td>\n",
       "      <td>1.650237e+02</td>\n",
       "    </tr>\n",
       "    <tr>\n",
       "      <th>2021-05-05 12:00:00</th>\n",
       "      <td>3343.244146</td>\n",
       "      <td>3343.244146</td>\n",
       "      <td>3343.244146</td>\n",
       "      <td>3343.244146</td>\n",
       "      <td>1.559137e+03</td>\n",
       "    </tr>\n",
       "    <tr>\n",
       "      <th>2021-05-05 16:00:00</th>\n",
       "      <td>3343.244146</td>\n",
       "      <td>3476.895080</td>\n",
       "      <td>3343.244146</td>\n",
       "      <td>3430.617750</td>\n",
       "      <td>1.393686e+05</td>\n",
       "    </tr>\n",
       "    <tr>\n",
       "      <th>...</th>\n",
       "      <td>...</td>\n",
       "      <td>...</td>\n",
       "      <td>...</td>\n",
       "      <td>...</td>\n",
       "      <td>...</td>\n",
       "    </tr>\n",
       "    <tr>\n",
       "      <th>2021-05-20 20:00:00</th>\n",
       "      <td>2789.467427</td>\n",
       "      <td>2890.845172</td>\n",
       "      <td>2668.863966</td>\n",
       "      <td>2775.833150</td>\n",
       "      <td>1.082835e+08</td>\n",
       "    </tr>\n",
       "    <tr>\n",
       "      <th>2021-05-21 00:00:00</th>\n",
       "      <td>2775.833150</td>\n",
       "      <td>2924.572530</td>\n",
       "      <td>2775.833150</td>\n",
       "      <td>2797.008788</td>\n",
       "      <td>4.045975e+07</td>\n",
       "    </tr>\n",
       "    <tr>\n",
       "      <th>2021-05-21 04:00:00</th>\n",
       "      <td>2792.816630</td>\n",
       "      <td>2809.342124</td>\n",
       "      <td>2694.068302</td>\n",
       "      <td>2694.068302</td>\n",
       "      <td>4.383654e+07</td>\n",
       "    </tr>\n",
       "    <tr>\n",
       "      <th>2021-05-21 08:00:00</th>\n",
       "      <td>2691.375715</td>\n",
       "      <td>2771.395590</td>\n",
       "      <td>2638.085543</td>\n",
       "      <td>2707.571699</td>\n",
       "      <td>4.017013e+07</td>\n",
       "    </tr>\n",
       "    <tr>\n",
       "      <th>2021-05-21 12:00:00</th>\n",
       "      <td>2709.738515</td>\n",
       "      <td>2750.138850</td>\n",
       "      <td>2388.005409</td>\n",
       "      <td>2420.944555</td>\n",
       "      <td>1.300869e+08</td>\n",
       "    </tr>\n",
       "  </tbody>\n",
       "</table>\n",
       "<p>100 rows × 5 columns</p>\n",
       "</div>"
      ],
      "text/plain": [
       "                            open         high          low        close  \\\n",
       "timestamp                                                                 \n",
       "2021-05-05 00:00:00  3306.010571  3306.010571  3306.010571  3306.010571   \n",
       "2021-05-05 04:00:00          NaN          NaN          NaN          NaN   \n",
       "2021-05-05 08:00:00  3301.715764  3301.715764  3301.715764  3301.715764   \n",
       "2021-05-05 12:00:00  3343.244146  3343.244146  3343.244146  3343.244146   \n",
       "2021-05-05 16:00:00  3343.244146  3476.895080  3343.244146  3430.617750   \n",
       "...                          ...          ...          ...          ...   \n",
       "2021-05-20 20:00:00  2789.467427  2890.845172  2668.863966  2775.833150   \n",
       "2021-05-21 00:00:00  2775.833150  2924.572530  2775.833150  2797.008788   \n",
       "2021-05-21 04:00:00  2792.816630  2809.342124  2694.068302  2694.068302   \n",
       "2021-05-21 08:00:00  2691.375715  2771.395590  2638.085543  2707.571699   \n",
       "2021-05-21 12:00:00  2709.738515  2750.138850  2388.005409  2420.944555   \n",
       "\n",
       "                           volume  \n",
       "timestamp                          \n",
       "2021-05-05 00:00:00  3.296080e-01  \n",
       "2021-05-05 04:00:00  0.000000e+00  \n",
       "2021-05-05 08:00:00  1.650237e+02  \n",
       "2021-05-05 12:00:00  1.559137e+03  \n",
       "2021-05-05 16:00:00  1.393686e+05  \n",
       "...                           ...  \n",
       "2021-05-20 20:00:00  1.082835e+08  \n",
       "2021-05-21 00:00:00  4.045975e+07  \n",
       "2021-05-21 04:00:00  4.383654e+07  \n",
       "2021-05-21 08:00:00  4.017013e+07  \n",
       "2021-05-21 12:00:00  1.300869e+08  \n",
       "\n",
       "[100 rows x 5 columns]"
      ]
     },
     "execution_count": 16,
     "metadata": {},
     "output_type": "execute_result"
    }
   ],
   "source": [
    "from eth_defi.research.candle import convert_to_ohlcv_candles\n",
    "\n",
    "candles = convert_to_ohlcv_candles(df, time_bucket=pd.Timedelta(\"4h\"))\n",
    "\n",
    "# Show only 100 first candles\n",
    "candles = candles.head(100)\n",
    "\n",
    "candles"
   ]
  },
  {
   "cell_type": "markdown",
   "metadata": {
    "collapsed": false,
    "pycharm": {
     "name": "#%% md\n"
    }
   },
   "source": [
    "### Drawing OHLCV chart\n",
    "\n",
    "Now we can plot the [OHLC chart using Plotly](https://plotly.com/python/ohlc-charts/)."
   ]
  },
  {
   "cell_type": "code",
   "execution_count": 17,
   "metadata": {
    "pycharm": {
     "name": "#%%\n"
    }
   },
   "outputs": [
    {
     "data": {
      "application/vnd.plotly.v1+json": {
       "config": {
        "plotlyServerURL": "https://plot.ly"
       },
       "data": [
        {
         "close": [
          3306.0105708183737,
          null,
          3301.715764042296,
          3343.2441463922933,
          3430.6177499297546,
          3521.3309962321405,
          3470.9896742801516,
          3424.448500427383,
          3507.9759967540226,
          3538.6269939178696,
          3474.8096725390083,
          3485.946315794666,
          3425.133424371953,
          3440.92454030447,
          3455.406089274396,
          3555.6523804741732,
          3519.570858810452,
          3475.852219688534,
          3530.850960099839,
          3533.67662970394,
          3539.6886881783935,
          3659.538758474498,
          3794.0547888081405,
          3895.936112456499,
          3900.2237855880203,
          3937.4505976365213,
          3876.118407252699,
          3864.1216446073777,
          3867.600745495951,
          3911.5502837354798,
          4064.2607638329105,
          4109.212164167973,
          4056.1407709974847,
          4158.401425158521,
          3984.185370900382,
          3940.2076400573164,
          3837.5523033403915,
          3952.440623430657,
          3993.3590843019615,
          3998.553567074026,
          4060.1987375186513,
          4172.563343539224,
          4342.405958249916,
          4297.910944268214,
          4255.573658087519,
          4201.872283137945,
          4060.1987375186513,
          3767.2137403088755,
          3921.733037187494,
          3954.021836842277,
          3744.3048251440473,
          3738.3190266244774,
          3665.764953825974,
          3716.700611178171,
          3794.0547888081405,
          3878.0568541069288,
          4015.381965550133,
          4131.047709964534,
          4058.575063962328,
          4087.492034869529,
          4040.7574520371804,
          3918.597062111159,
          3894.767565339975,
          3887.763639337196,
          3736.4504277282044,
          3640.195475180478,
          3816.504751853337,
          3854.8593349853163,
          3800.8898954289307,
          3647.847534932493,
          3398.862483445736,
          3578.480386030085,
          3254.514084776854,
          3519.570858810452,
          3508.6776270331334,
          3288.864790786127,
          3390.7154012418364,
          3279.6693088205284,
          3392.411098047906,
          3500.967406110931,
          3546.774795000218,
          3350.2719843609407,
          3399.5422899310497,
          3389.0205520298746,
          3103.5460866227145,
          2992.913032633685,
          2706.4889410920555,
          2720.3265988559533,
          2597.7722506143928,
          2450.6594849379303,
          2461.2194804521673,
          2708.384051808234,
          2748.4893438780005,
          2902.140915725383,
          2794.7721879722194,
          2775.83314973487,
          2797.0087884153363,
          2694.0683023543406,
          2707.571699068655,
          2420.944554563577
         ],
         "high": [
          3306.0105708183737,
          null,
          3301.715764042296,
          3343.2441463922933,
          3476.8950796334834,
          3540.0426570472114,
          3522.035297644697,
          3495.0211146099314,
          3519.9228158963333,
          3575.2613634085606,
          3591.3854854176666,
          3523.796667532271,
          3517.108144393556,
          3461.9772729380575,
          3462.323470665352,
          3555.6523804741732,
          3573.116957195232,
          3517.811601193516,
          3540.0426570472114,
          3568.118343227869,
          3565.6216591610987,
          3685.981193978072,
          3871.8572341346876,
          3955.9992432024233,
          3940.995720987404,
          3976.2253608157416,
          3945.7275177769784,
          3873.0189074645173,
          3939.419716719776,
          3920.164736067502,
          4101.822604343229,
          4149.263454367432,
          4159.64907034227,
          4158.401425158521,
          4187.192169324791,
          4039.949421753335,
          3985.3807460411977,
          3956.394843126744,
          4058.575063962328,
          4035.104632137791,
          4076.063635807192,
          4172.563343539224,
          4345.012053272613,
          4372.470660097524,
          4316.430824557993,
          4363.298564379544,
          4198.512297481371,
          4199.771977130182,
          4046.4181910305538,
          4028.653949177589,
          3974.6352682144416,
          3903.34505689759,
          3857.5585461752003,
          3793.2960916568477,
          3895.1570420965095,
          3880.384270005487,
          4033.4909937147117,
          4155.907257334907,
          4162.561698363415,
          4090.354137810341,
          4110.856095602807,
          4050.466430595425,
          3945.3329844785308,
          3924.8715219221385,
          3883.8780131128306,
          3813.4529215357106,
          3830.6512670363045,
          3886.9862032266888,
          3845.6192271434847,
          3803.1709995756955,
          3716.328978280342,
          3578.480386030085,
          3580.9860739064466,
          3519.570858810452,
          3558.49789816036,
          3531.9103213169287,
          3472.7255162509705,
          3450.572146991601,
          3404.30474395821,
          3553.1644190919073,
          3546.774795000218,
          3541.813032415403,
          3427.5317371669244,
          3448.5025281303683,
          3424.790945277425,
          3116.919398155546,
          3012.4293508702012,
          2758.6770807633047,
          2894.316094749112,
          2698.651884233842,
          2531.6101948999526,
          2767.518544153031,
          2748.4893438780005,
          2996.2068835656787,
          2898.660609240444,
          2890.845171948831,
          2924.572530104582,
          2809.3421238690853,
          2771.395589564374,
          2750.1388498127026
         ],
         "low": [
          3306.0105708183737,
          null,
          3301.715764042296,
          3343.2441463922933,
          3343.2441463922933,
          3422.394550269585,
          3371.7814063429087,
          3407.0291411493695,
          3424.1060898184005,
          3464.054978667656,
          3407.7105810478906,
          3449.537182347332,
          3408.7329964569303,
          3383.9410857229955,
          3425.133424371953,
          3429.5887704075403,
          3519.570858810452,
          3444.7114503751673,
          3472.7255162509705,
          3526.616691726721,
          3536.858211091133,
          3524.1490471990246,
          3652.227360356492,
          3794.0547888081405,
          3839.471463285669,
          3847.5424213574365,
          3876.118407252699,
          3754.0521964208947,
          3866.054091880489,
          3867.2140240935414,
          3905.68764951156,
          4041.1615277823844,
          4014.177591843238,
          4062.229242947888,
          3984.185370900382,
          3672.368942355625,
          3728.9853676678204,
          3721.1631057518457,
          3922.1252104912123,
          3904.516177518914,
          4012.5723221439903,
          4058.9809214687243,
          4165.892913472515,
          4270.066507778337,
          4244.524089708874,
          4191.800384357767,
          3896.3257060677447,
          3697.7946345612518,
          3597.495727470133,
          3904.516177518914,
          3590.667316047784,
          3678.616966477475,
          3458.171381853047,
          3587.7960744044185,
          3701.1239812490862,
          3758.9353935108825,
          3877.669087198208,
          3979.407454670192,
          4048.846648988835,
          3990.9639072332106,
          4021.0071557614915,
          3918.2052415870007,
          3825.2923753020314,
          3845.234703673117,
          3668.3317592326057,
          3582.0604771617814,
          3638.7397609371624,
          3789.883831531892,
          3800.8898954289307,
          3646.0241582145086,
          3351.9474554138233,
          3330.897615533613,
          3232.1363484296244,
          3130.663370887762,
          3449.1922631210205,
          3288.864790786127,
          3086.2156655112344,
          3190.3925853735573,
          3259.7252145525185,
          3394.7864983416157,
          3457.8255992931186,
          3261.681538705231,
          3323.2457366392177,
          3330.897615533613,
          3069.288916900288,
          2860.0795564215678,
          2566.27353688861,
          1949.8814875212886,
          2569.6116949140614,
          2449.9244341075155,
          2130.7289695458826,
          2471.577821652161,
          2578.104995087349,
          2725.4998737893147,
          2607.401329306713,
          2668.863966465059,
          2775.83314973487,
          2694.0683023543406,
          2638.08554331454,
          2388.005409408492
         ],
         "open": [
          3306.0105708183737,
          null,
          3301.715764042296,
          3343.2441463922933,
          3343.2441463922933,
          3434.049911869418,
          3517.811601193516,
          3470.9896742801516,
          3425.133424371953,
          3504.8203963674996,
          3538.27316660121,
          3480.7215770871767,
          3486.2949104262457,
          3423.421371309925,
          3439.2045940525904,
          3455.406089274396,
          3559.209633324971,
          3517.811601193516,
          3478.981738285069,
          3534.3834003666466,
          3536.858211091133,
          3524.1490471990246,
          3652.227360356492,
          3798.2303364321065,
          3895.5465578007183,
          3886.597543472342,
          3937.056891947326,
          3873.0189074645173,
          3867.2140240935414,
          3867.2140240935414,
          3911.5502837354798,
          4063.04172941877,
          4060.604757392403,
          4062.229242947888,
          4166.726133714138,
          3982.59209509089,
          3945.7275177769784,
          3721.1631057518457,
          3952.440623430657,
          3979.0095537148204,
          4012.5723221439903,
          4059.7927582428274,
          4172.563343539224,
          4347.184993843907,
          4298.340735362641,
          4255.999215453327,
          4193.4773560363,
          4063.4480335917115,
          3775.51031860556,
          3926.4417060388982,
          3954.4172390259614,
          3737.571474953772,
          3743.5560764931874,
          3663.566264459081,
          3710.016901401281,
          3793.6754212660135,
          3878.0568541069288,
          4008.9628120497296,
          4145.945536841007,
          4058.9809214687243,
          4080.1415341608486,
          4040.7574520371804,
          3917.813460240977,
          3894.767565339975,
          3883.8780131128306,
          3744.3048251440473,
          3643.1086510192317,
          3817.268090968755,
          3845.6192271434847,
          3801.269984418474,
          3645.6595922552833,
          3402.2628758252336,
          3580.6280111053356,
          3248.9863870872355,
          3529.438972730291,
          3511.836700316181,
          3288.2071164807594,
          3390.3763636054755,
          3282.9504543741664,
          3394.7864983416157,
          3503.418818620909,
          3541.813032415403,
          3348.9322105274005,
          3399.5422899310497,
          3384.9563695703287,
          3103.5460866227145,
          2992.913032633685,
          2718.1513165680954,
          2721.1427784481284,
          2602.7124625993565,
          2462.4503363389545,
          2471.577821652161,
          2711.0936549579287,
          2750.9639739745617,
          2898.660609240444,
          2789.467427167226,
          2775.83314973487,
          2792.8166297421494,
          2691.3757151970503,
          2709.7385146996285
         ],
         "showlegend": false,
         "type": "candlestick",
         "x": [
          "2021-05-05T00:00:00",
          "2021-05-05T04:00:00",
          "2021-05-05T08:00:00",
          "2021-05-05T12:00:00",
          "2021-05-05T16:00:00",
          "2021-05-05T20:00:00",
          "2021-05-06T00:00:00",
          "2021-05-06T04:00:00",
          "2021-05-06T08:00:00",
          "2021-05-06T12:00:00",
          "2021-05-06T16:00:00",
          "2021-05-06T20:00:00",
          "2021-05-07T00:00:00",
          "2021-05-07T04:00:00",
          "2021-05-07T08:00:00",
          "2021-05-07T12:00:00",
          "2021-05-07T16:00:00",
          "2021-05-07T20:00:00",
          "2021-05-08T00:00:00",
          "2021-05-08T04:00:00",
          "2021-05-08T08:00:00",
          "2021-05-08T12:00:00",
          "2021-05-08T16:00:00",
          "2021-05-08T20:00:00",
          "2021-05-09T00:00:00",
          "2021-05-09T04:00:00",
          "2021-05-09T08:00:00",
          "2021-05-09T12:00:00",
          "2021-05-09T16:00:00",
          "2021-05-09T20:00:00",
          "2021-05-10T00:00:00",
          "2021-05-10T04:00:00",
          "2021-05-10T08:00:00",
          "2021-05-10T12:00:00",
          "2021-05-10T16:00:00",
          "2021-05-10T20:00:00",
          "2021-05-11T00:00:00",
          "2021-05-11T04:00:00",
          "2021-05-11T08:00:00",
          "2021-05-11T12:00:00",
          "2021-05-11T16:00:00",
          "2021-05-11T20:00:00",
          "2021-05-12T00:00:00",
          "2021-05-12T04:00:00",
          "2021-05-12T08:00:00",
          "2021-05-12T12:00:00",
          "2021-05-12T16:00:00",
          "2021-05-12T20:00:00",
          "2021-05-13T00:00:00",
          "2021-05-13T04:00:00",
          "2021-05-13T08:00:00",
          "2021-05-13T12:00:00",
          "2021-05-13T16:00:00",
          "2021-05-13T20:00:00",
          "2021-05-14T00:00:00",
          "2021-05-14T04:00:00",
          "2021-05-14T08:00:00",
          "2021-05-14T12:00:00",
          "2021-05-14T16:00:00",
          "2021-05-14T20:00:00",
          "2021-05-15T00:00:00",
          "2021-05-15T04:00:00",
          "2021-05-15T08:00:00",
          "2021-05-15T12:00:00",
          "2021-05-15T16:00:00",
          "2021-05-15T20:00:00",
          "2021-05-16T00:00:00",
          "2021-05-16T04:00:00",
          "2021-05-16T08:00:00",
          "2021-05-16T12:00:00",
          "2021-05-16T16:00:00",
          "2021-05-16T20:00:00",
          "2021-05-17T00:00:00",
          "2021-05-17T04:00:00",
          "2021-05-17T08:00:00",
          "2021-05-17T12:00:00",
          "2021-05-17T16:00:00",
          "2021-05-17T20:00:00",
          "2021-05-18T00:00:00",
          "2021-05-18T04:00:00",
          "2021-05-18T08:00:00",
          "2021-05-18T12:00:00",
          "2021-05-18T16:00:00",
          "2021-05-18T20:00:00",
          "2021-05-19T00:00:00",
          "2021-05-19T04:00:00",
          "2021-05-19T08:00:00",
          "2021-05-19T12:00:00",
          "2021-05-19T16:00:00",
          "2021-05-19T20:00:00",
          "2021-05-20T00:00:00",
          "2021-05-20T04:00:00",
          "2021-05-20T08:00:00",
          "2021-05-20T12:00:00",
          "2021-05-20T16:00:00",
          "2021-05-20T20:00:00",
          "2021-05-21T00:00:00",
          "2021-05-21T04:00:00",
          "2021-05-21T08:00:00",
          "2021-05-21T12:00:00"
         ],
         "xaxis": "x",
         "yaxis": "y2"
        },
        {
         "marker": {
          "color": "rgba(128,128,128,0.5)"
         },
         "showlegend": false,
         "type": "bar",
         "x": [
          "2021-05-05T00:00:00",
          "2021-05-05T04:00:00",
          "2021-05-05T08:00:00",
          "2021-05-05T12:00:00",
          "2021-05-05T16:00:00",
          "2021-05-05T20:00:00",
          "2021-05-06T00:00:00",
          "2021-05-06T04:00:00",
          "2021-05-06T08:00:00",
          "2021-05-06T12:00:00",
          "2021-05-06T16:00:00",
          "2021-05-06T20:00:00",
          "2021-05-07T00:00:00",
          "2021-05-07T04:00:00",
          "2021-05-07T08:00:00",
          "2021-05-07T12:00:00",
          "2021-05-07T16:00:00",
          "2021-05-07T20:00:00",
          "2021-05-08T00:00:00",
          "2021-05-08T04:00:00",
          "2021-05-08T08:00:00",
          "2021-05-08T12:00:00",
          "2021-05-08T16:00:00",
          "2021-05-08T20:00:00",
          "2021-05-09T00:00:00",
          "2021-05-09T04:00:00",
          "2021-05-09T08:00:00",
          "2021-05-09T12:00:00",
          "2021-05-09T16:00:00",
          "2021-05-09T20:00:00",
          "2021-05-10T00:00:00",
          "2021-05-10T04:00:00",
          "2021-05-10T08:00:00",
          "2021-05-10T12:00:00",
          "2021-05-10T16:00:00",
          "2021-05-10T20:00:00",
          "2021-05-11T00:00:00",
          "2021-05-11T04:00:00",
          "2021-05-11T08:00:00",
          "2021-05-11T12:00:00",
          "2021-05-11T16:00:00",
          "2021-05-11T20:00:00",
          "2021-05-12T00:00:00",
          "2021-05-12T04:00:00",
          "2021-05-12T08:00:00",
          "2021-05-12T12:00:00",
          "2021-05-12T16:00:00",
          "2021-05-12T20:00:00",
          "2021-05-13T00:00:00",
          "2021-05-13T04:00:00",
          "2021-05-13T08:00:00",
          "2021-05-13T12:00:00",
          "2021-05-13T16:00:00",
          "2021-05-13T20:00:00",
          "2021-05-14T00:00:00",
          "2021-05-14T04:00:00",
          "2021-05-14T08:00:00",
          "2021-05-14T12:00:00",
          "2021-05-14T16:00:00",
          "2021-05-14T20:00:00",
          "2021-05-15T00:00:00",
          "2021-05-15T04:00:00",
          "2021-05-15T08:00:00",
          "2021-05-15T12:00:00",
          "2021-05-15T16:00:00",
          "2021-05-15T20:00:00",
          "2021-05-16T00:00:00",
          "2021-05-16T04:00:00",
          "2021-05-16T08:00:00",
          "2021-05-16T12:00:00",
          "2021-05-16T16:00:00",
          "2021-05-16T20:00:00",
          "2021-05-17T00:00:00",
          "2021-05-17T04:00:00",
          "2021-05-17T08:00:00",
          "2021-05-17T12:00:00",
          "2021-05-17T16:00:00",
          "2021-05-17T20:00:00",
          "2021-05-18T00:00:00",
          "2021-05-18T04:00:00",
          "2021-05-18T08:00:00",
          "2021-05-18T12:00:00",
          "2021-05-18T16:00:00",
          "2021-05-18T20:00:00",
          "2021-05-19T00:00:00",
          "2021-05-19T04:00:00",
          "2021-05-19T08:00:00",
          "2021-05-19T12:00:00",
          "2021-05-19T16:00:00",
          "2021-05-19T20:00:00",
          "2021-05-20T00:00:00",
          "2021-05-20T04:00:00",
          "2021-05-20T08:00:00",
          "2021-05-20T12:00:00",
          "2021-05-20T16:00:00",
          "2021-05-20T20:00:00",
          "2021-05-21T00:00:00",
          "2021-05-21T04:00:00",
          "2021-05-21T08:00:00",
          "2021-05-21T12:00:00"
         ],
         "xaxis": "x",
         "y": [
          0.329608,
          0,
          165.023663,
          1559.137299,
          139368.571715,
          2150681.120563,
          2967546.611746,
          2959560.093158,
          4453558.497441,
          1.0026422623174E7,
          1.7214082238322E7,
          6936353.581645,
          8841095.44436,
          8301471.783356,
          4955839.3590130005,
          1.1757942111259E7,
          6719347.257878,
          7041531.365913,
          5189289.611744,
          6438364.309081,
          4487042.490867,
          1.129461043658E7,
          1.6970266062124E7,
          1.1013378153151E7,
          8993432.811001,
          1.3744697602971999E7,
          7564006.728057,
          2.0545454378915E7,
          1.2195709407426E7,
          9908528.45446,
          1.3578121399525E7,
          1.006062201831E7,
          1.3918412415173E7,
          1.2640844433855E7,
          1.2340131758545E7,
          6.8332173746548E7,
          4.2947550097101E7,
          3.2315736067986E7,
          1.2269597953514E7,
          2.4460921540043E7,
          9298581.939015,
          1.2952862262887E7,
          1.5908599045375E7,
          1.6683477933227E7,
          9690215.780342,
          2.045572533182E7,
          5.6826505177514E7,
          7.3864681318581E7,
          7.9940504222183E7,
          2.331112203056E7,
          9.6079276536767E7,
          5.1480495635422E7,
          8.6182616415653E7,
          4.6422664545876E7,
          3.0885281201172E7,
          2.4489499970928E7,
          2.255395741813E7,
          3.0854479398491E7,
          2.5185454329031E7,
          2.4432395899866E7,
          2.5110503243048E7,
          3.1559407101023E7,
          3.7846219186569E7,
          1.8660890468274E7,
          5.2536906764278E7,
          7.001585561158E7,
          4.0299699602238E7,
          2.9615353407657E7,
          1.6862150468193002E7,
          4.0826178878259E7,
          1.42154538425478E8,
          7.3528513632562E7,
          5.885437168008E7,
          7.8151146582166E7,
          3.359948107782E7,
          4.2185835528879E7,
          7.5470383636903E7,
          4.9346854777807E7,
          2.9119189244059E7,
          3.291951890733E7,
          1.7996900117097E7,
          8.4042666318458E7,
          3.7638951719304E7,
          3.715585674105E7,
          7.6213820548498E7,
          1.13583981632003E8,
          1.01181787178021E8,
          2.24961484739745E8,
          1.11526090738113E8,
          7.6685694811281E7,
          7.8331777831078E7,
          6.5084991108895E7,
          6.1045424002248E7,
          8.8121106767172E7,
          1.65909471499069E8,
          1.08283488595428E8,
          4.0459754535018E7,
          4.3836538519276E7,
          4.0170133674783E7,
          1.30086867590991E8
         ],
         "yaxis": "y"
        }
       ],
       "layout": {
        "height": 800,
        "template": {
         "data": {
          "bar": [
           {
            "error_x": {
             "color": "#2a3f5f"
            },
            "error_y": {
             "color": "#2a3f5f"
            },
            "marker": {
             "line": {
              "color": "#E5ECF6",
              "width": 0.5
             },
             "pattern": {
              "fillmode": "overlay",
              "size": 10,
              "solidity": 0.2
             }
            },
            "type": "bar"
           }
          ],
          "barpolar": [
           {
            "marker": {
             "line": {
              "color": "#E5ECF6",
              "width": 0.5
             },
             "pattern": {
              "fillmode": "overlay",
              "size": 10,
              "solidity": 0.2
             }
            },
            "type": "barpolar"
           }
          ],
          "carpet": [
           {
            "aaxis": {
             "endlinecolor": "#2a3f5f",
             "gridcolor": "white",
             "linecolor": "white",
             "minorgridcolor": "white",
             "startlinecolor": "#2a3f5f"
            },
            "baxis": {
             "endlinecolor": "#2a3f5f",
             "gridcolor": "white",
             "linecolor": "white",
             "minorgridcolor": "white",
             "startlinecolor": "#2a3f5f"
            },
            "type": "carpet"
           }
          ],
          "choropleth": [
           {
            "colorbar": {
             "outlinewidth": 0,
             "ticks": ""
            },
            "type": "choropleth"
           }
          ],
          "contour": [
           {
            "colorbar": {
             "outlinewidth": 0,
             "ticks": ""
            },
            "colorscale": [
             [
              0,
              "#0d0887"
             ],
             [
              0.1111111111111111,
              "#46039f"
             ],
             [
              0.2222222222222222,
              "#7201a8"
             ],
             [
              0.3333333333333333,
              "#9c179e"
             ],
             [
              0.4444444444444444,
              "#bd3786"
             ],
             [
              0.5555555555555556,
              "#d8576b"
             ],
             [
              0.6666666666666666,
              "#ed7953"
             ],
             [
              0.7777777777777778,
              "#fb9f3a"
             ],
             [
              0.8888888888888888,
              "#fdca26"
             ],
             [
              1,
              "#f0f921"
             ]
            ],
            "type": "contour"
           }
          ],
          "contourcarpet": [
           {
            "colorbar": {
             "outlinewidth": 0,
             "ticks": ""
            },
            "type": "contourcarpet"
           }
          ],
          "heatmap": [
           {
            "colorbar": {
             "outlinewidth": 0,
             "ticks": ""
            },
            "colorscale": [
             [
              0,
              "#0d0887"
             ],
             [
              0.1111111111111111,
              "#46039f"
             ],
             [
              0.2222222222222222,
              "#7201a8"
             ],
             [
              0.3333333333333333,
              "#9c179e"
             ],
             [
              0.4444444444444444,
              "#bd3786"
             ],
             [
              0.5555555555555556,
              "#d8576b"
             ],
             [
              0.6666666666666666,
              "#ed7953"
             ],
             [
              0.7777777777777778,
              "#fb9f3a"
             ],
             [
              0.8888888888888888,
              "#fdca26"
             ],
             [
              1,
              "#f0f921"
             ]
            ],
            "type": "heatmap"
           }
          ],
          "heatmapgl": [
           {
            "colorbar": {
             "outlinewidth": 0,
             "ticks": ""
            },
            "colorscale": [
             [
              0,
              "#0d0887"
             ],
             [
              0.1111111111111111,
              "#46039f"
             ],
             [
              0.2222222222222222,
              "#7201a8"
             ],
             [
              0.3333333333333333,
              "#9c179e"
             ],
             [
              0.4444444444444444,
              "#bd3786"
             ],
             [
              0.5555555555555556,
              "#d8576b"
             ],
             [
              0.6666666666666666,
              "#ed7953"
             ],
             [
              0.7777777777777778,
              "#fb9f3a"
             ],
             [
              0.8888888888888888,
              "#fdca26"
             ],
             [
              1,
              "#f0f921"
             ]
            ],
            "type": "heatmapgl"
           }
          ],
          "histogram": [
           {
            "marker": {
             "pattern": {
              "fillmode": "overlay",
              "size": 10,
              "solidity": 0.2
             }
            },
            "type": "histogram"
           }
          ],
          "histogram2d": [
           {
            "colorbar": {
             "outlinewidth": 0,
             "ticks": ""
            },
            "colorscale": [
             [
              0,
              "#0d0887"
             ],
             [
              0.1111111111111111,
              "#46039f"
             ],
             [
              0.2222222222222222,
              "#7201a8"
             ],
             [
              0.3333333333333333,
              "#9c179e"
             ],
             [
              0.4444444444444444,
              "#bd3786"
             ],
             [
              0.5555555555555556,
              "#d8576b"
             ],
             [
              0.6666666666666666,
              "#ed7953"
             ],
             [
              0.7777777777777778,
              "#fb9f3a"
             ],
             [
              0.8888888888888888,
              "#fdca26"
             ],
             [
              1,
              "#f0f921"
             ]
            ],
            "type": "histogram2d"
           }
          ],
          "histogram2dcontour": [
           {
            "colorbar": {
             "outlinewidth": 0,
             "ticks": ""
            },
            "colorscale": [
             [
              0,
              "#0d0887"
             ],
             [
              0.1111111111111111,
              "#46039f"
             ],
             [
              0.2222222222222222,
              "#7201a8"
             ],
             [
              0.3333333333333333,
              "#9c179e"
             ],
             [
              0.4444444444444444,
              "#bd3786"
             ],
             [
              0.5555555555555556,
              "#d8576b"
             ],
             [
              0.6666666666666666,
              "#ed7953"
             ],
             [
              0.7777777777777778,
              "#fb9f3a"
             ],
             [
              0.8888888888888888,
              "#fdca26"
             ],
             [
              1,
              "#f0f921"
             ]
            ],
            "type": "histogram2dcontour"
           }
          ],
          "mesh3d": [
           {
            "colorbar": {
             "outlinewidth": 0,
             "ticks": ""
            },
            "type": "mesh3d"
           }
          ],
          "parcoords": [
           {
            "line": {
             "colorbar": {
              "outlinewidth": 0,
              "ticks": ""
             }
            },
            "type": "parcoords"
           }
          ],
          "pie": [
           {
            "automargin": true,
            "type": "pie"
           }
          ],
          "scatter": [
           {
            "fillpattern": {
             "fillmode": "overlay",
             "size": 10,
             "solidity": 0.2
            },
            "type": "scatter"
           }
          ],
          "scatter3d": [
           {
            "line": {
             "colorbar": {
              "outlinewidth": 0,
              "ticks": ""
             }
            },
            "marker": {
             "colorbar": {
              "outlinewidth": 0,
              "ticks": ""
             }
            },
            "type": "scatter3d"
           }
          ],
          "scattercarpet": [
           {
            "marker": {
             "colorbar": {
              "outlinewidth": 0,
              "ticks": ""
             }
            },
            "type": "scattercarpet"
           }
          ],
          "scattergeo": [
           {
            "marker": {
             "colorbar": {
              "outlinewidth": 0,
              "ticks": ""
             }
            },
            "type": "scattergeo"
           }
          ],
          "scattergl": [
           {
            "marker": {
             "colorbar": {
              "outlinewidth": 0,
              "ticks": ""
             }
            },
            "type": "scattergl"
           }
          ],
          "scattermapbox": [
           {
            "marker": {
             "colorbar": {
              "outlinewidth": 0,
              "ticks": ""
             }
            },
            "type": "scattermapbox"
           }
          ],
          "scatterpolar": [
           {
            "marker": {
             "colorbar": {
              "outlinewidth": 0,
              "ticks": ""
             }
            },
            "type": "scatterpolar"
           }
          ],
          "scatterpolargl": [
           {
            "marker": {
             "colorbar": {
              "outlinewidth": 0,
              "ticks": ""
             }
            },
            "type": "scatterpolargl"
           }
          ],
          "scatterternary": [
           {
            "marker": {
             "colorbar": {
              "outlinewidth": 0,
              "ticks": ""
             }
            },
            "type": "scatterternary"
           }
          ],
          "surface": [
           {
            "colorbar": {
             "outlinewidth": 0,
             "ticks": ""
            },
            "colorscale": [
             [
              0,
              "#0d0887"
             ],
             [
              0.1111111111111111,
              "#46039f"
             ],
             [
              0.2222222222222222,
              "#7201a8"
             ],
             [
              0.3333333333333333,
              "#9c179e"
             ],
             [
              0.4444444444444444,
              "#bd3786"
             ],
             [
              0.5555555555555556,
              "#d8576b"
             ],
             [
              0.6666666666666666,
              "#ed7953"
             ],
             [
              0.7777777777777778,
              "#fb9f3a"
             ],
             [
              0.8888888888888888,
              "#fdca26"
             ],
             [
              1,
              "#f0f921"
             ]
            ],
            "type": "surface"
           }
          ],
          "table": [
           {
            "cells": {
             "fill": {
              "color": "#EBF0F8"
             },
             "line": {
              "color": "white"
             }
            },
            "header": {
             "fill": {
              "color": "#C8D4E3"
             },
             "line": {
              "color": "white"
             }
            },
            "type": "table"
           }
          ]
         },
         "layout": {
          "annotationdefaults": {
           "arrowcolor": "#2a3f5f",
           "arrowhead": 0,
           "arrowwidth": 1
          },
          "autotypenumbers": "strict",
          "coloraxis": {
           "colorbar": {
            "outlinewidth": 0,
            "ticks": ""
           }
          },
          "colorscale": {
           "diverging": [
            [
             0,
             "#8e0152"
            ],
            [
             0.1,
             "#c51b7d"
            ],
            [
             0.2,
             "#de77ae"
            ],
            [
             0.3,
             "#f1b6da"
            ],
            [
             0.4,
             "#fde0ef"
            ],
            [
             0.5,
             "#f7f7f7"
            ],
            [
             0.6,
             "#e6f5d0"
            ],
            [
             0.7,
             "#b8e186"
            ],
            [
             0.8,
             "#7fbc41"
            ],
            [
             0.9,
             "#4d9221"
            ],
            [
             1,
             "#276419"
            ]
           ],
           "sequential": [
            [
             0,
             "#0d0887"
            ],
            [
             0.1111111111111111,
             "#46039f"
            ],
            [
             0.2222222222222222,
             "#7201a8"
            ],
            [
             0.3333333333333333,
             "#9c179e"
            ],
            [
             0.4444444444444444,
             "#bd3786"
            ],
            [
             0.5555555555555556,
             "#d8576b"
            ],
            [
             0.6666666666666666,
             "#ed7953"
            ],
            [
             0.7777777777777778,
             "#fb9f3a"
            ],
            [
             0.8888888888888888,
             "#fdca26"
            ],
            [
             1,
             "#f0f921"
            ]
           ],
           "sequentialminus": [
            [
             0,
             "#0d0887"
            ],
            [
             0.1111111111111111,
             "#46039f"
            ],
            [
             0.2222222222222222,
             "#7201a8"
            ],
            [
             0.3333333333333333,
             "#9c179e"
            ],
            [
             0.4444444444444444,
             "#bd3786"
            ],
            [
             0.5555555555555556,
             "#d8576b"
            ],
            [
             0.6666666666666666,
             "#ed7953"
            ],
            [
             0.7777777777777778,
             "#fb9f3a"
            ],
            [
             0.8888888888888888,
             "#fdca26"
            ],
            [
             1,
             "#f0f921"
            ]
           ]
          },
          "colorway": [
           "#636efa",
           "#EF553B",
           "#00cc96",
           "#ab63fa",
           "#FFA15A",
           "#19d3f3",
           "#FF6692",
           "#B6E880",
           "#FF97FF",
           "#FECB52"
          ],
          "font": {
           "color": "#2a3f5f"
          },
          "geo": {
           "bgcolor": "white",
           "lakecolor": "white",
           "landcolor": "#E5ECF6",
           "showlakes": true,
           "showland": true,
           "subunitcolor": "white"
          },
          "hoverlabel": {
           "align": "left"
          },
          "hovermode": "closest",
          "mapbox": {
           "style": "light"
          },
          "paper_bgcolor": "white",
          "plot_bgcolor": "#E5ECF6",
          "polar": {
           "angularaxis": {
            "gridcolor": "white",
            "linecolor": "white",
            "ticks": ""
           },
           "bgcolor": "#E5ECF6",
           "radialaxis": {
            "gridcolor": "white",
            "linecolor": "white",
            "ticks": ""
           }
          },
          "scene": {
           "xaxis": {
            "backgroundcolor": "#E5ECF6",
            "gridcolor": "white",
            "gridwidth": 2,
            "linecolor": "white",
            "showbackground": true,
            "ticks": "",
            "zerolinecolor": "white"
           },
           "yaxis": {
            "backgroundcolor": "#E5ECF6",
            "gridcolor": "white",
            "gridwidth": 2,
            "linecolor": "white",
            "showbackground": true,
            "ticks": "",
            "zerolinecolor": "white"
           },
           "zaxis": {
            "backgroundcolor": "#E5ECF6",
            "gridcolor": "white",
            "gridwidth": 2,
            "linecolor": "white",
            "showbackground": true,
            "ticks": "",
            "zerolinecolor": "white"
           }
          },
          "shapedefaults": {
           "line": {
            "color": "#2a3f5f"
           }
          },
          "ternary": {
           "aaxis": {
            "gridcolor": "white",
            "linecolor": "white",
            "ticks": ""
           },
           "baxis": {
            "gridcolor": "white",
            "linecolor": "white",
            "ticks": ""
           },
           "bgcolor": "#E5ECF6",
           "caxis": {
            "gridcolor": "white",
            "linecolor": "white",
            "ticks": ""
           }
          },
          "title": {
           "x": 0.05
          },
          "xaxis": {
           "automargin": true,
           "gridcolor": "white",
           "linecolor": "white",
           "ticks": "",
           "title": {
            "standoff": 15
           },
           "zerolinecolor": "white",
           "zerolinewidth": 2
          },
          "yaxis": {
           "automargin": true,
           "gridcolor": "white",
           "linecolor": "white",
           "ticks": "",
           "title": {
            "standoff": 15
           },
           "zerolinecolor": "white",
           "zerolinewidth": 2
          }
         }
        },
        "title": {
         "text": "ETH/USDC pool after Uniswap v3 deployment"
        },
        "xaxis": {
         "anchor": "y",
         "domain": [
          0,
          0.94
         ]
        },
        "yaxis": {
         "anchor": "x",
         "domain": [
          0,
          1
         ],
         "showgrid": false,
         "title": {
          "text": "Volume $"
         }
        },
        "yaxis2": {
         "anchor": "x",
         "overlaying": "y",
         "showgrid": true,
         "side": "right",
         "title": {
          "text": "Price $"
         }
        }
       }
      },
      "text/html": [
       "<div>                            <div id=\"44ceb55d-9ff3-433e-a36b-944da3d0a792\" class=\"plotly-graph-div\" style=\"height:800px; width:100%;\"></div>            <script type=\"text/javascript\">                require([\"plotly\"], function(Plotly) {                    window.PLOTLYENV=window.PLOTLYENV || {};                                    if (document.getElementById(\"44ceb55d-9ff3-433e-a36b-944da3d0a792\")) {                    Plotly.newPlot(                        \"44ceb55d-9ff3-433e-a36b-944da3d0a792\",                        [{\"close\":[3306.0105708183737,null,3301.715764042296,3343.2441463922933,3430.6177499297546,3521.3309962321405,3470.9896742801516,3424.448500427383,3507.9759967540226,3538.6269939178696,3474.8096725390083,3485.946315794666,3425.133424371953,3440.92454030447,3455.406089274396,3555.6523804741732,3519.570858810452,3475.852219688534,3530.850960099839,3533.67662970394,3539.6886881783935,3659.538758474498,3794.0547888081405,3895.936112456499,3900.2237855880203,3937.4505976365213,3876.118407252699,3864.1216446073777,3867.600745495951,3911.5502837354798,4064.2607638329105,4109.212164167973,4056.1407709974847,4158.401425158521,3984.185370900382,3940.2076400573164,3837.5523033403915,3952.440623430657,3993.3590843019615,3998.553567074026,4060.1987375186513,4172.563343539224,4342.405958249916,4297.910944268214,4255.573658087519,4201.872283137945,4060.1987375186513,3767.2137403088755,3921.733037187494,3954.021836842277,3744.3048251440473,3738.3190266244774,3665.764953825974,3716.700611178171,3794.0547888081405,3878.0568541069288,4015.381965550133,4131.047709964534,4058.575063962328,4087.492034869529,4040.7574520371804,3918.597062111159,3894.767565339975,3887.763639337196,3736.4504277282044,3640.195475180478,3816.504751853337,3854.8593349853163,3800.8898954289307,3647.847534932493,3398.862483445736,3578.480386030085,3254.514084776854,3519.570858810452,3508.6776270331334,3288.864790786127,3390.7154012418364,3279.6693088205284,3392.411098047906,3500.967406110931,3546.774795000218,3350.2719843609407,3399.5422899310497,3389.0205520298746,3103.5460866227145,2992.913032633685,2706.4889410920555,2720.3265988559533,2597.7722506143928,2450.6594849379303,2461.2194804521673,2708.384051808234,2748.4893438780005,2902.140915725383,2794.7721879722194,2775.83314973487,2797.0087884153363,2694.0683023543406,2707.571699068655,2420.944554563577],\"high\":[3306.0105708183737,null,3301.715764042296,3343.2441463922933,3476.8950796334834,3540.0426570472114,3522.035297644697,3495.0211146099314,3519.9228158963333,3575.2613634085606,3591.3854854176666,3523.796667532271,3517.108144393556,3461.9772729380575,3462.323470665352,3555.6523804741732,3573.116957195232,3517.811601193516,3540.0426570472114,3568.118343227869,3565.6216591610987,3685.981193978072,3871.8572341346876,3955.9992432024233,3940.995720987404,3976.2253608157416,3945.7275177769784,3873.0189074645173,3939.419716719776,3920.164736067502,4101.822604343229,4149.263454367432,4159.64907034227,4158.401425158521,4187.192169324791,4039.949421753335,3985.3807460411977,3956.394843126744,4058.575063962328,4035.104632137791,4076.063635807192,4172.563343539224,4345.012053272613,4372.470660097524,4316.430824557993,4363.298564379544,4198.512297481371,4199.771977130182,4046.4181910305538,4028.653949177589,3974.6352682144416,3903.34505689759,3857.5585461752003,3793.2960916568477,3895.1570420965095,3880.384270005487,4033.4909937147117,4155.907257334907,4162.561698363415,4090.354137810341,4110.856095602807,4050.466430595425,3945.3329844785308,3924.8715219221385,3883.8780131128306,3813.4529215357106,3830.6512670363045,3886.9862032266888,3845.6192271434847,3803.1709995756955,3716.328978280342,3578.480386030085,3580.9860739064466,3519.570858810452,3558.49789816036,3531.9103213169287,3472.7255162509705,3450.572146991601,3404.30474395821,3553.1644190919073,3546.774795000218,3541.813032415403,3427.5317371669244,3448.5025281303683,3424.790945277425,3116.919398155546,3012.4293508702012,2758.6770807633047,2894.316094749112,2698.651884233842,2531.6101948999526,2767.518544153031,2748.4893438780005,2996.2068835656787,2898.660609240444,2890.845171948831,2924.572530104582,2809.3421238690853,2771.395589564374,2750.1388498127026],\"low\":[3306.0105708183737,null,3301.715764042296,3343.2441463922933,3343.2441463922933,3422.394550269585,3371.7814063429087,3407.0291411493695,3424.1060898184005,3464.054978667656,3407.7105810478906,3449.537182347332,3408.7329964569303,3383.9410857229955,3425.133424371953,3429.5887704075403,3519.570858810452,3444.7114503751673,3472.7255162509705,3526.616691726721,3536.858211091133,3524.1490471990246,3652.227360356492,3794.0547888081405,3839.471463285669,3847.5424213574365,3876.118407252699,3754.0521964208947,3866.054091880489,3867.2140240935414,3905.68764951156,4041.1615277823844,4014.177591843238,4062.229242947888,3984.185370900382,3672.368942355625,3728.9853676678204,3721.1631057518457,3922.1252104912123,3904.516177518914,4012.5723221439903,4058.9809214687243,4165.892913472515,4270.066507778337,4244.524089708874,4191.800384357767,3896.3257060677447,3697.7946345612518,3597.495727470133,3904.516177518914,3590.667316047784,3678.616966477475,3458.171381853047,3587.7960744044185,3701.1239812490862,3758.9353935108825,3877.669087198208,3979.407454670192,4048.846648988835,3990.9639072332106,4021.0071557614915,3918.2052415870007,3825.2923753020314,3845.234703673117,3668.3317592326057,3582.0604771617814,3638.7397609371624,3789.883831531892,3800.8898954289307,3646.0241582145086,3351.9474554138233,3330.897615533613,3232.1363484296244,3130.663370887762,3449.1922631210205,3288.864790786127,3086.2156655112344,3190.3925853735573,3259.7252145525185,3394.7864983416157,3457.8255992931186,3261.681538705231,3323.2457366392177,3330.897615533613,3069.288916900288,2860.0795564215678,2566.27353688861,1949.8814875212886,2569.6116949140614,2449.9244341075155,2130.7289695458826,2471.577821652161,2578.104995087349,2725.4998737893147,2607.401329306713,2668.863966465059,2775.83314973487,2694.0683023543406,2638.08554331454,2388.005409408492],\"open\":[3306.0105708183737,null,3301.715764042296,3343.2441463922933,3343.2441463922933,3434.049911869418,3517.811601193516,3470.9896742801516,3425.133424371953,3504.8203963674996,3538.27316660121,3480.7215770871767,3486.2949104262457,3423.421371309925,3439.2045940525904,3455.406089274396,3559.209633324971,3517.811601193516,3478.981738285069,3534.3834003666466,3536.858211091133,3524.1490471990246,3652.227360356492,3798.2303364321065,3895.5465578007183,3886.597543472342,3937.056891947326,3873.0189074645173,3867.2140240935414,3867.2140240935414,3911.5502837354798,4063.04172941877,4060.604757392403,4062.229242947888,4166.726133714138,3982.59209509089,3945.7275177769784,3721.1631057518457,3952.440623430657,3979.0095537148204,4012.5723221439903,4059.7927582428274,4172.563343539224,4347.184993843907,4298.340735362641,4255.999215453327,4193.4773560363,4063.4480335917115,3775.51031860556,3926.4417060388982,3954.4172390259614,3737.571474953772,3743.5560764931874,3663.566264459081,3710.016901401281,3793.6754212660135,3878.0568541069288,4008.9628120497296,4145.945536841007,4058.9809214687243,4080.1415341608486,4040.7574520371804,3917.813460240977,3894.767565339975,3883.8780131128306,3744.3048251440473,3643.1086510192317,3817.268090968755,3845.6192271434847,3801.269984418474,3645.6595922552833,3402.2628758252336,3580.6280111053356,3248.9863870872355,3529.438972730291,3511.836700316181,3288.2071164807594,3390.3763636054755,3282.9504543741664,3394.7864983416157,3503.418818620909,3541.813032415403,3348.9322105274005,3399.5422899310497,3384.9563695703287,3103.5460866227145,2992.913032633685,2718.1513165680954,2721.1427784481284,2602.7124625993565,2462.4503363389545,2471.577821652161,2711.0936549579287,2750.9639739745617,2898.660609240444,2789.467427167226,2775.83314973487,2792.8166297421494,2691.3757151970503,2709.7385146996285],\"showlegend\":false,\"x\":[\"2021-05-05T00:00:00\",\"2021-05-05T04:00:00\",\"2021-05-05T08:00:00\",\"2021-05-05T12:00:00\",\"2021-05-05T16:00:00\",\"2021-05-05T20:00:00\",\"2021-05-06T00:00:00\",\"2021-05-06T04:00:00\",\"2021-05-06T08:00:00\",\"2021-05-06T12:00:00\",\"2021-05-06T16:00:00\",\"2021-05-06T20:00:00\",\"2021-05-07T00:00:00\",\"2021-05-07T04:00:00\",\"2021-05-07T08:00:00\",\"2021-05-07T12:00:00\",\"2021-05-07T16:00:00\",\"2021-05-07T20:00:00\",\"2021-05-08T00:00:00\",\"2021-05-08T04:00:00\",\"2021-05-08T08:00:00\",\"2021-05-08T12:00:00\",\"2021-05-08T16:00:00\",\"2021-05-08T20:00:00\",\"2021-05-09T00:00:00\",\"2021-05-09T04:00:00\",\"2021-05-09T08:00:00\",\"2021-05-09T12:00:00\",\"2021-05-09T16:00:00\",\"2021-05-09T20:00:00\",\"2021-05-10T00:00:00\",\"2021-05-10T04:00:00\",\"2021-05-10T08:00:00\",\"2021-05-10T12:00:00\",\"2021-05-10T16:00:00\",\"2021-05-10T20:00:00\",\"2021-05-11T00:00:00\",\"2021-05-11T04:00:00\",\"2021-05-11T08:00:00\",\"2021-05-11T12:00:00\",\"2021-05-11T16:00:00\",\"2021-05-11T20:00:00\",\"2021-05-12T00:00:00\",\"2021-05-12T04:00:00\",\"2021-05-12T08:00:00\",\"2021-05-12T12:00:00\",\"2021-05-12T16:00:00\",\"2021-05-12T20:00:00\",\"2021-05-13T00:00:00\",\"2021-05-13T04:00:00\",\"2021-05-13T08:00:00\",\"2021-05-13T12:00:00\",\"2021-05-13T16:00:00\",\"2021-05-13T20:00:00\",\"2021-05-14T00:00:00\",\"2021-05-14T04:00:00\",\"2021-05-14T08:00:00\",\"2021-05-14T12:00:00\",\"2021-05-14T16:00:00\",\"2021-05-14T20:00:00\",\"2021-05-15T00:00:00\",\"2021-05-15T04:00:00\",\"2021-05-15T08:00:00\",\"2021-05-15T12:00:00\",\"2021-05-15T16:00:00\",\"2021-05-15T20:00:00\",\"2021-05-16T00:00:00\",\"2021-05-16T04:00:00\",\"2021-05-16T08:00:00\",\"2021-05-16T12:00:00\",\"2021-05-16T16:00:00\",\"2021-05-16T20:00:00\",\"2021-05-17T00:00:00\",\"2021-05-17T04:00:00\",\"2021-05-17T08:00:00\",\"2021-05-17T12:00:00\",\"2021-05-17T16:00:00\",\"2021-05-17T20:00:00\",\"2021-05-18T00:00:00\",\"2021-05-18T04:00:00\",\"2021-05-18T08:00:00\",\"2021-05-18T12:00:00\",\"2021-05-18T16:00:00\",\"2021-05-18T20:00:00\",\"2021-05-19T00:00:00\",\"2021-05-19T04:00:00\",\"2021-05-19T08:00:00\",\"2021-05-19T12:00:00\",\"2021-05-19T16:00:00\",\"2021-05-19T20:00:00\",\"2021-05-20T00:00:00\",\"2021-05-20T04:00:00\",\"2021-05-20T08:00:00\",\"2021-05-20T12:00:00\",\"2021-05-20T16:00:00\",\"2021-05-20T20:00:00\",\"2021-05-21T00:00:00\",\"2021-05-21T04:00:00\",\"2021-05-21T08:00:00\",\"2021-05-21T12:00:00\"],\"type\":\"candlestick\",\"xaxis\":\"x\",\"yaxis\":\"y2\"},{\"marker\":{\"color\":\"rgba(128,128,128,0.5)\"},\"showlegend\":false,\"x\":[\"2021-05-05T00:00:00\",\"2021-05-05T04:00:00\",\"2021-05-05T08:00:00\",\"2021-05-05T12:00:00\",\"2021-05-05T16:00:00\",\"2021-05-05T20:00:00\",\"2021-05-06T00:00:00\",\"2021-05-06T04:00:00\",\"2021-05-06T08:00:00\",\"2021-05-06T12:00:00\",\"2021-05-06T16:00:00\",\"2021-05-06T20:00:00\",\"2021-05-07T00:00:00\",\"2021-05-07T04:00:00\",\"2021-05-07T08:00:00\",\"2021-05-07T12:00:00\",\"2021-05-07T16:00:00\",\"2021-05-07T20:00:00\",\"2021-05-08T00:00:00\",\"2021-05-08T04:00:00\",\"2021-05-08T08:00:00\",\"2021-05-08T12:00:00\",\"2021-05-08T16:00:00\",\"2021-05-08T20:00:00\",\"2021-05-09T00:00:00\",\"2021-05-09T04:00:00\",\"2021-05-09T08:00:00\",\"2021-05-09T12:00:00\",\"2021-05-09T16:00:00\",\"2021-05-09T20:00:00\",\"2021-05-10T00:00:00\",\"2021-05-10T04:00:00\",\"2021-05-10T08:00:00\",\"2021-05-10T12:00:00\",\"2021-05-10T16:00:00\",\"2021-05-10T20:00:00\",\"2021-05-11T00:00:00\",\"2021-05-11T04:00:00\",\"2021-05-11T08:00:00\",\"2021-05-11T12:00:00\",\"2021-05-11T16:00:00\",\"2021-05-11T20:00:00\",\"2021-05-12T00:00:00\",\"2021-05-12T04:00:00\",\"2021-05-12T08:00:00\",\"2021-05-12T12:00:00\",\"2021-05-12T16:00:00\",\"2021-05-12T20:00:00\",\"2021-05-13T00:00:00\",\"2021-05-13T04:00:00\",\"2021-05-13T08:00:00\",\"2021-05-13T12:00:00\",\"2021-05-13T16:00:00\",\"2021-05-13T20:00:00\",\"2021-05-14T00:00:00\",\"2021-05-14T04:00:00\",\"2021-05-14T08:00:00\",\"2021-05-14T12:00:00\",\"2021-05-14T16:00:00\",\"2021-05-14T20:00:00\",\"2021-05-15T00:00:00\",\"2021-05-15T04:00:00\",\"2021-05-15T08:00:00\",\"2021-05-15T12:00:00\",\"2021-05-15T16:00:00\",\"2021-05-15T20:00:00\",\"2021-05-16T00:00:00\",\"2021-05-16T04:00:00\",\"2021-05-16T08:00:00\",\"2021-05-16T12:00:00\",\"2021-05-16T16:00:00\",\"2021-05-16T20:00:00\",\"2021-05-17T00:00:00\",\"2021-05-17T04:00:00\",\"2021-05-17T08:00:00\",\"2021-05-17T12:00:00\",\"2021-05-17T16:00:00\",\"2021-05-17T20:00:00\",\"2021-05-18T00:00:00\",\"2021-05-18T04:00:00\",\"2021-05-18T08:00:00\",\"2021-05-18T12:00:00\",\"2021-05-18T16:00:00\",\"2021-05-18T20:00:00\",\"2021-05-19T00:00:00\",\"2021-05-19T04:00:00\",\"2021-05-19T08:00:00\",\"2021-05-19T12:00:00\",\"2021-05-19T16:00:00\",\"2021-05-19T20:00:00\",\"2021-05-20T00:00:00\",\"2021-05-20T04:00:00\",\"2021-05-20T08:00:00\",\"2021-05-20T12:00:00\",\"2021-05-20T16:00:00\",\"2021-05-20T20:00:00\",\"2021-05-21T00:00:00\",\"2021-05-21T04:00:00\",\"2021-05-21T08:00:00\",\"2021-05-21T12:00:00\"],\"y\":[0.329608,0.0,165.023663,1559.137299,139368.571715,2150681.120563,2967546.611746,2959560.093158,4453558.497441,10026422.623174,17214082.238322,6936353.581645,8841095.44436,8301471.783356,4955839.3590130005,11757942.111259,6719347.257878,7041531.365913,5189289.611744,6438364.309081,4487042.490867,11294610.43658,16970266.062124,11013378.153151,8993432.811001,13744697.602971999,7564006.728057,20545454.378915,12195709.407426,9908528.45446,13578121.399525,10060622.01831,13918412.415173,12640844.433855,12340131.758545,68332173.746548,42947550.097101,32315736.067986,12269597.953514,24460921.540043,9298581.939015,12952862.262887,15908599.045375,16683477.933227,9690215.780342,20455725.33182,56826505.177514,73864681.318581,79940504.222183,23311122.03056,96079276.536767,51480495.635422,86182616.415653,46422664.545876,30885281.201172,24489499.970928,22553957.41813,30854479.398491,25185454.329031,24432395.899866,25110503.243048,31559407.101023,37846219.186569,18660890.468274,52536906.764278,70015855.61158,40299699.602238,29615353.407657,16862150.468193002,40826178.878259,142154538.425478,73528513.632562,58854371.68008,78151146.582166,33599481.07782,42185835.528879,75470383.636903,49346854.777807,29119189.244059,32919518.90733,17996900.117097,84042666.318458,37638951.719304,37155856.74105,76213820.548498,113583981.632003,101181787.178021,224961484.739745,111526090.738113,76685694.811281,78331777.831078,65084991.108895,61045424.002248,88121106.767172,165909471.499069,108283488.595428,40459754.535018,43836538.519276,40170133.674783,130086867.590991],\"type\":\"bar\",\"xaxis\":\"x\",\"yaxis\":\"y\"}],                        {\"template\":{\"data\":{\"histogram2dcontour\":[{\"type\":\"histogram2dcontour\",\"colorbar\":{\"outlinewidth\":0,\"ticks\":\"\"},\"colorscale\":[[0.0,\"#0d0887\"],[0.1111111111111111,\"#46039f\"],[0.2222222222222222,\"#7201a8\"],[0.3333333333333333,\"#9c179e\"],[0.4444444444444444,\"#bd3786\"],[0.5555555555555556,\"#d8576b\"],[0.6666666666666666,\"#ed7953\"],[0.7777777777777778,\"#fb9f3a\"],[0.8888888888888888,\"#fdca26\"],[1.0,\"#f0f921\"]]}],\"choropleth\":[{\"type\":\"choropleth\",\"colorbar\":{\"outlinewidth\":0,\"ticks\":\"\"}}],\"histogram2d\":[{\"type\":\"histogram2d\",\"colorbar\":{\"outlinewidth\":0,\"ticks\":\"\"},\"colorscale\":[[0.0,\"#0d0887\"],[0.1111111111111111,\"#46039f\"],[0.2222222222222222,\"#7201a8\"],[0.3333333333333333,\"#9c179e\"],[0.4444444444444444,\"#bd3786\"],[0.5555555555555556,\"#d8576b\"],[0.6666666666666666,\"#ed7953\"],[0.7777777777777778,\"#fb9f3a\"],[0.8888888888888888,\"#fdca26\"],[1.0,\"#f0f921\"]]}],\"heatmap\":[{\"type\":\"heatmap\",\"colorbar\":{\"outlinewidth\":0,\"ticks\":\"\"},\"colorscale\":[[0.0,\"#0d0887\"],[0.1111111111111111,\"#46039f\"],[0.2222222222222222,\"#7201a8\"],[0.3333333333333333,\"#9c179e\"],[0.4444444444444444,\"#bd3786\"],[0.5555555555555556,\"#d8576b\"],[0.6666666666666666,\"#ed7953\"],[0.7777777777777778,\"#fb9f3a\"],[0.8888888888888888,\"#fdca26\"],[1.0,\"#f0f921\"]]}],\"heatmapgl\":[{\"type\":\"heatmapgl\",\"colorbar\":{\"outlinewidth\":0,\"ticks\":\"\"},\"colorscale\":[[0.0,\"#0d0887\"],[0.1111111111111111,\"#46039f\"],[0.2222222222222222,\"#7201a8\"],[0.3333333333333333,\"#9c179e\"],[0.4444444444444444,\"#bd3786\"],[0.5555555555555556,\"#d8576b\"],[0.6666666666666666,\"#ed7953\"],[0.7777777777777778,\"#fb9f3a\"],[0.8888888888888888,\"#fdca26\"],[1.0,\"#f0f921\"]]}],\"contourcarpet\":[{\"type\":\"contourcarpet\",\"colorbar\":{\"outlinewidth\":0,\"ticks\":\"\"}}],\"contour\":[{\"type\":\"contour\",\"colorbar\":{\"outlinewidth\":0,\"ticks\":\"\"},\"colorscale\":[[0.0,\"#0d0887\"],[0.1111111111111111,\"#46039f\"],[0.2222222222222222,\"#7201a8\"],[0.3333333333333333,\"#9c179e\"],[0.4444444444444444,\"#bd3786\"],[0.5555555555555556,\"#d8576b\"],[0.6666666666666666,\"#ed7953\"],[0.7777777777777778,\"#fb9f3a\"],[0.8888888888888888,\"#fdca26\"],[1.0,\"#f0f921\"]]}],\"surface\":[{\"type\":\"surface\",\"colorbar\":{\"outlinewidth\":0,\"ticks\":\"\"},\"colorscale\":[[0.0,\"#0d0887\"],[0.1111111111111111,\"#46039f\"],[0.2222222222222222,\"#7201a8\"],[0.3333333333333333,\"#9c179e\"],[0.4444444444444444,\"#bd3786\"],[0.5555555555555556,\"#d8576b\"],[0.6666666666666666,\"#ed7953\"],[0.7777777777777778,\"#fb9f3a\"],[0.8888888888888888,\"#fdca26\"],[1.0,\"#f0f921\"]]}],\"mesh3d\":[{\"type\":\"mesh3d\",\"colorbar\":{\"outlinewidth\":0,\"ticks\":\"\"}}],\"scatter\":[{\"fillpattern\":{\"fillmode\":\"overlay\",\"size\":10,\"solidity\":0.2},\"type\":\"scatter\"}],\"parcoords\":[{\"type\":\"parcoords\",\"line\":{\"colorbar\":{\"outlinewidth\":0,\"ticks\":\"\"}}}],\"scatterpolargl\":[{\"type\":\"scatterpolargl\",\"marker\":{\"colorbar\":{\"outlinewidth\":0,\"ticks\":\"\"}}}],\"bar\":[{\"error_x\":{\"color\":\"#2a3f5f\"},\"error_y\":{\"color\":\"#2a3f5f\"},\"marker\":{\"line\":{\"color\":\"#E5ECF6\",\"width\":0.5},\"pattern\":{\"fillmode\":\"overlay\",\"size\":10,\"solidity\":0.2}},\"type\":\"bar\"}],\"scattergeo\":[{\"type\":\"scattergeo\",\"marker\":{\"colorbar\":{\"outlinewidth\":0,\"ticks\":\"\"}}}],\"scatterpolar\":[{\"type\":\"scatterpolar\",\"marker\":{\"colorbar\":{\"outlinewidth\":0,\"ticks\":\"\"}}}],\"histogram\":[{\"marker\":{\"pattern\":{\"fillmode\":\"overlay\",\"size\":10,\"solidity\":0.2}},\"type\":\"histogram\"}],\"scattergl\":[{\"type\":\"scattergl\",\"marker\":{\"colorbar\":{\"outlinewidth\":0,\"ticks\":\"\"}}}],\"scatter3d\":[{\"type\":\"scatter3d\",\"line\":{\"colorbar\":{\"outlinewidth\":0,\"ticks\":\"\"}},\"marker\":{\"colorbar\":{\"outlinewidth\":0,\"ticks\":\"\"}}}],\"scattermapbox\":[{\"type\":\"scattermapbox\",\"marker\":{\"colorbar\":{\"outlinewidth\":0,\"ticks\":\"\"}}}],\"scatterternary\":[{\"type\":\"scatterternary\",\"marker\":{\"colorbar\":{\"outlinewidth\":0,\"ticks\":\"\"}}}],\"scattercarpet\":[{\"type\":\"scattercarpet\",\"marker\":{\"colorbar\":{\"outlinewidth\":0,\"ticks\":\"\"}}}],\"carpet\":[{\"aaxis\":{\"endlinecolor\":\"#2a3f5f\",\"gridcolor\":\"white\",\"linecolor\":\"white\",\"minorgridcolor\":\"white\",\"startlinecolor\":\"#2a3f5f\"},\"baxis\":{\"endlinecolor\":\"#2a3f5f\",\"gridcolor\":\"white\",\"linecolor\":\"white\",\"minorgridcolor\":\"white\",\"startlinecolor\":\"#2a3f5f\"},\"type\":\"carpet\"}],\"table\":[{\"cells\":{\"fill\":{\"color\":\"#EBF0F8\"},\"line\":{\"color\":\"white\"}},\"header\":{\"fill\":{\"color\":\"#C8D4E3\"},\"line\":{\"color\":\"white\"}},\"type\":\"table\"}],\"barpolar\":[{\"marker\":{\"line\":{\"color\":\"#E5ECF6\",\"width\":0.5},\"pattern\":{\"fillmode\":\"overlay\",\"size\":10,\"solidity\":0.2}},\"type\":\"barpolar\"}],\"pie\":[{\"automargin\":true,\"type\":\"pie\"}]},\"layout\":{\"autotypenumbers\":\"strict\",\"colorway\":[\"#636efa\",\"#EF553B\",\"#00cc96\",\"#ab63fa\",\"#FFA15A\",\"#19d3f3\",\"#FF6692\",\"#B6E880\",\"#FF97FF\",\"#FECB52\"],\"font\":{\"color\":\"#2a3f5f\"},\"hovermode\":\"closest\",\"hoverlabel\":{\"align\":\"left\"},\"paper_bgcolor\":\"white\",\"plot_bgcolor\":\"#E5ECF6\",\"polar\":{\"bgcolor\":\"#E5ECF6\",\"angularaxis\":{\"gridcolor\":\"white\",\"linecolor\":\"white\",\"ticks\":\"\"},\"radialaxis\":{\"gridcolor\":\"white\",\"linecolor\":\"white\",\"ticks\":\"\"}},\"ternary\":{\"bgcolor\":\"#E5ECF6\",\"aaxis\":{\"gridcolor\":\"white\",\"linecolor\":\"white\",\"ticks\":\"\"},\"baxis\":{\"gridcolor\":\"white\",\"linecolor\":\"white\",\"ticks\":\"\"},\"caxis\":{\"gridcolor\":\"white\",\"linecolor\":\"white\",\"ticks\":\"\"}},\"coloraxis\":{\"colorbar\":{\"outlinewidth\":0,\"ticks\":\"\"}},\"colorscale\":{\"sequential\":[[0.0,\"#0d0887\"],[0.1111111111111111,\"#46039f\"],[0.2222222222222222,\"#7201a8\"],[0.3333333333333333,\"#9c179e\"],[0.4444444444444444,\"#bd3786\"],[0.5555555555555556,\"#d8576b\"],[0.6666666666666666,\"#ed7953\"],[0.7777777777777778,\"#fb9f3a\"],[0.8888888888888888,\"#fdca26\"],[1.0,\"#f0f921\"]],\"sequentialminus\":[[0.0,\"#0d0887\"],[0.1111111111111111,\"#46039f\"],[0.2222222222222222,\"#7201a8\"],[0.3333333333333333,\"#9c179e\"],[0.4444444444444444,\"#bd3786\"],[0.5555555555555556,\"#d8576b\"],[0.6666666666666666,\"#ed7953\"],[0.7777777777777778,\"#fb9f3a\"],[0.8888888888888888,\"#fdca26\"],[1.0,\"#f0f921\"]],\"diverging\":[[0,\"#8e0152\"],[0.1,\"#c51b7d\"],[0.2,\"#de77ae\"],[0.3,\"#f1b6da\"],[0.4,\"#fde0ef\"],[0.5,\"#f7f7f7\"],[0.6,\"#e6f5d0\"],[0.7,\"#b8e186\"],[0.8,\"#7fbc41\"],[0.9,\"#4d9221\"],[1,\"#276419\"]]},\"xaxis\":{\"gridcolor\":\"white\",\"linecolor\":\"white\",\"ticks\":\"\",\"title\":{\"standoff\":15},\"zerolinecolor\":\"white\",\"automargin\":true,\"zerolinewidth\":2},\"yaxis\":{\"gridcolor\":\"white\",\"linecolor\":\"white\",\"ticks\":\"\",\"title\":{\"standoff\":15},\"zerolinecolor\":\"white\",\"automargin\":true,\"zerolinewidth\":2},\"scene\":{\"xaxis\":{\"backgroundcolor\":\"#E5ECF6\",\"gridcolor\":\"white\",\"linecolor\":\"white\",\"showbackground\":true,\"ticks\":\"\",\"zerolinecolor\":\"white\",\"gridwidth\":2},\"yaxis\":{\"backgroundcolor\":\"#E5ECF6\",\"gridcolor\":\"white\",\"linecolor\":\"white\",\"showbackground\":true,\"ticks\":\"\",\"zerolinecolor\":\"white\",\"gridwidth\":2},\"zaxis\":{\"backgroundcolor\":\"#E5ECF6\",\"gridcolor\":\"white\",\"linecolor\":\"white\",\"showbackground\":true,\"ticks\":\"\",\"zerolinecolor\":\"white\",\"gridwidth\":2}},\"shapedefaults\":{\"line\":{\"color\":\"#2a3f5f\"}},\"annotationdefaults\":{\"arrowcolor\":\"#2a3f5f\",\"arrowhead\":0,\"arrowwidth\":1},\"geo\":{\"bgcolor\":\"white\",\"landcolor\":\"#E5ECF6\",\"subunitcolor\":\"white\",\"showland\":true,\"showlakes\":true,\"lakecolor\":\"white\"},\"title\":{\"x\":0.05},\"mapbox\":{\"style\":\"light\"}}},\"xaxis\":{\"anchor\":\"y\",\"domain\":[0.0,0.94]},\"yaxis\":{\"anchor\":\"x\",\"domain\":[0.0,1.0],\"title\":{\"text\":\"Volume $\"},\"showgrid\":false},\"yaxis2\":{\"anchor\":\"x\",\"overlaying\":\"y\",\"side\":\"right\",\"title\":{\"text\":\"Price $\"},\"showgrid\":true},\"title\":{\"text\":\"ETH/USDC pool after Uniswap v3 deployment\"},\"height\":800},                        {\"responsive\": true}                    ).then(function(){\n",
       "                            \n",
       "var gd = document.getElementById('44ceb55d-9ff3-433e-a36b-944da3d0a792');\n",
       "var x = new MutationObserver(function (mutations, observer) {{\n",
       "        var display = window.getComputedStyle(gd).display;\n",
       "        if (!display || display === 'none') {{\n",
       "            console.log([gd, 'removed!']);\n",
       "            Plotly.purge(gd);\n",
       "            observer.disconnect();\n",
       "        }}\n",
       "}});\n",
       "\n",
       "// Listen for the removal of the full notebook cells\n",
       "var notebookContainer = gd.closest('#notebook-container');\n",
       "if (notebookContainer) {{\n",
       "    x.observe(notebookContainer, {childList: true});\n",
       "}}\n",
       "\n",
       "// Listen for the clearing of the current output cell\n",
       "var outputEl = gd.closest('.output');\n",
       "if (outputEl) {{\n",
       "    x.observe(outputEl, {childList: true});\n",
       "}}\n",
       "\n",
       "                        })                };                });            </script>        </div>"
      ]
     },
     "metadata": {},
     "output_type": "display_data"
    }
   ],
   "source": [
    "import plotly.graph_objects as go\n",
    "from plotly.subplots import make_subplots\n",
    "\n",
    "candlesticks = go.Candlestick(\n",
    "    x=candles.index,\n",
    "    open=candles['open'],\n",
    "    high=candles['high'],\n",
    "    low=candles['low'],\n",
    "    close=candles['close'],\n",
    "    showlegend=False\n",
    ")\n",
    "\n",
    "volume_bars = go.Bar(\n",
    "    x=candles.index,\n",
    "    y=candles['volume'],\n",
    "    showlegend=False,\n",
    "    marker={\n",
    "        \"color\": \"rgba(128,128,128,0.5)\",\n",
    "    }\n",
    ")\n",
    "\n",
    "fig = go.Figure(candlesticks)\n",
    "fig = make_subplots(specs=[[{\"secondary_y\": True}]])\n",
    "fig.add_trace(candlesticks, secondary_y=True)\n",
    "fig.add_trace(volume_bars, secondary_y=False)\n",
    "fig.update_layout(title=\"ETH/USDC pool after Uniswap v3 deployment\", height=800)\n",
    "fig.update_yaxes(title=\"Price $\", secondary_y=True, showgrid=True)\n",
    "fig.update_yaxes(title=\"Volume $\", secondary_y=False, showgrid=False)\n",
    "fig.show()"
   ]
  }
 ],
 "metadata": {
  "interpreter": {
   "hash": "9b6697946b59f1cda35d1a9d955611df8679c38ae8cee6d6fc35b656a9a31b3c"
  },
  "kernelspec": {
   "display_name": "Python 3.9.10 ('web3-ethereum-defi-0d8b7oDT-py3.9')",
   "language": "python",
   "name": "python3"
  },
  "language_info": {
   "codemirror_mode": {
    "name": "ipython",
    "version": 3
   },
   "file_extension": ".py",
   "mimetype": "text/x-python",
   "name": "python",
   "nbconvert_exporter": "python",
   "pygments_lexer": "ipython3",
   "version": "3.9.10"
  },
  "orig_nbformat": 4
 },
 "nbformat": 4,
 "nbformat_minor": 2
}
