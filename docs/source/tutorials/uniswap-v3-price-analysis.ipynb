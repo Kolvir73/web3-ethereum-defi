{
 "cells": [
  {
   "cell_type": "markdown",
   "metadata": {},
   "source": [
    "# Uniswap V3 OHCLV candle price analysis\n",
    "\n",
    "In this notebook we will show how to download price events from Uniswap V3 to your computer as CSV files and use them to analyse price in each pool.\n",
    "This will generate an [OHLCV price chart](https://tradingstrategy.ai/glossary/ohlcv).\n",
    "\n",
    "- The notebook will fetch price data for all pairs on Uniswap v3 Ethereum which traded at a specific period, or a block range.\n",
    "\n",
    "- Running this notebook will do ~1M API requests on your JSON-RPC provider. You can reduce the scanned block range to decrease the number of API requests.\n",
    "\n",
    "- Running this notebook will be slow (hours), depending how high quality your JSON-RPC provider is. With a local JSON-RPC node it completes in few minutes."
   ]
  },
  {
   "cell_type": "markdown",
   "source": [
    "## Prerequisites\n",
    "\n",
    "* For more background information, see [this blog post about the topic](https://tradingstrategy.ai/blog/uniswap-data-research-with-jupyter-and-python)\n",
    "\n",
    "* [See here a tutorial how to set up your local development environment to run this notebook](https://tradingstrategy.ai/docs/programming/setting-up-development-environment/index.html)\n",
    "\n",
    "* For easier access to data, see also [Trading Strategy historical datasets](https://tradingstrategy.ai/trading-view/backtesting)\n",
    "  where you can batch download historical data in one file\n",
    "\n",
    "* You need to understand [Jupyter Notebook and Pandas basics](https://jakevdp.github.io/PythonDataScienceHandbook/)\n",
    "\n",
    "* You need to understand [Ethereum](https://github.com/ethereumbook/ethereumbook) and [Web3.py basics](https://web3py.readthedocs.io/)\n",
    "\n",
    "* You know how to use [Plotly charting library for Python](https://plotly.com/)\n",
    "\n",
    "* You will need to have [Ethereum API node and its JSON-RPC URL](https://ethereumnodes.com/) in order to pull out the data from Ethereum blockchain. The notebook will interactively ask you for your API key.\n",
    "\n",
    "* You will need to install [web3-ethereum-defi](https://github.com/tradingstrategy-ai/web3-ethereum-defi) Python package\n",
    "\n",
    "* This notebook uses UNIX style paths and may not run on Microsoft Windows unless modified."
   ],
   "metadata": {
    "collapsed": false
   }
  },
  {
   "cell_type": "markdown",
   "source": [
    "### Running\n",
    "\n",
    "Run the notebook in Visual Studio Code or similar.\n",
    "\n",
    "To run from the command line using IPython command:\n",
    "\n",
    "```shell\n",
    "ipython docs/source/tutorials/uniswap-v3-price-analysis.ipynb\n",
    "```"
   ],
   "metadata": {
    "collapsed": false
   }
  },
  {
   "cell_type": "markdown",
   "source": [
    "## Extracting and transforming the data\n",
    "\n",
    "This will extract Uniswap v3 events, save them in temporary CSV files,\n",
    "and then transforms them to OHLCV data."
   ],
   "metadata": {
    "collapsed": false
   }
  },
  {
   "cell_type": "markdown",
   "metadata": {},
   "source": [
    "### Download the raw data from Ethereum blockchain\n",
    "\n",
    "You can sign up for free access to an Ethereum node for example at [Infura](https://infura.io/). Long term, we recommend you to [run your own Ethereum node](https://tradingstrategy.ai/blog/preparing-a-server-for-hosting-goethereum-full-node)."
   ]
  },
  {
   "cell_type": "code",
   "execution_count": 1,
   "metadata": {
    "ExecuteTime": {
     "end_time": "2023-10-29T11:36:33.561276Z",
     "start_time": "2023-10-29T11:36:27.130627Z"
    }
   },
   "outputs": [],
   "source": [
    "from web3 import Web3, HTTPProvider\n",
    "\n",
    "# Get your node JSON-RPC URL\n",
    "# interactively when you run the notebook.\n",
    "# The actual UI prompt will depend on your environment (Visual Studio Code, Jupyter Notebook, etc.)\n",
    "json_rpc_url = input(\"Please enter your Ethereum mainnet JSON-RPC URL here: \")\n",
    "web3 = Web3(HTTPProvider(json_rpc_url))\n",
    "\n",
    "# Configure logging for diagnostics if needed\n",
    "#import logging\n",
    "#import sys\n",
    "#logging.basicConfig(level=logging.DEBUG, stream=sys.stdout)"
   ]
  },
  {
   "cell_type": "markdown",
   "metadata": {},
   "source": []
  },
  {
   "cell_type": "markdown",
   "metadata": {},
   "source": [
    "As an example, here we download raw events from first few blocks after Uniswap V3 was deployed.\n",
    "The events will be stored in several CSV files at `/tmp` folder.\n",
    "\n",
    "Depends on your internet connection and latency to the Ethereum node, the scan might take hours. However it can resume in case there is a crash, as we save the last scanned block in a JSON state file.\n",
    "\n",
    "[See the source code of fetch_events_to_csv](https://web3-ethereum-defi.readthedocs.io/_modules/eth_defi/uniswap_v3/events.html#fetch_events_to_csv).\n",
    "\n",
    "**Note**: Progress bar might be slow to update at the start."
   ]
  },
  {
   "cell_type": "code",
   "execution_count": 2,
   "metadata": {
    "ExecuteTime": {
     "end_time": "2023-10-29T11:40:16.147926Z",
     "start_time": "2023-10-29T11:36:33.542677Z"
    }
   },
   "outputs": [
    {
     "name": "stdout",
     "output_type": "stream",
     "text": [
      "Restored previous scan state, data until block 12,375,721, we are skipping 6,100 blocks out of 250,000 total\n",
      "Scanning block range 12,375,721 - 12,619,621\n"
     ]
    },
    {
     "data": {
      "text/plain": "  0%|          | 0/243900 [00:00<?, ?it/s]",
      "application/vnd.jupyter.widget-view+json": {
       "version_major": 2,
       "version_minor": 0,
       "model_id": "7c3f1ed75b2c4beaad41dd06b9d0ef43"
      }
     },
     "metadata": {},
     "output_type": "display_data"
    },
    {
     "ename": "KeyboardInterrupt",
     "evalue": "",
     "output_type": "error",
     "traceback": [
      "\u001B[0;31m---------------------------------------------------------------------------\u001B[0m",
      "\u001B[0;31mKeyboardInterrupt\u001B[0m                         Traceback (most recent call last)",
      "Cell \u001B[0;32mIn[2], line 15\u001B[0m\n\u001B[1;32m     10\u001B[0m state \u001B[38;5;241m=\u001B[39m JSONFileScanState(\u001B[38;5;124m\"\u001B[39m\u001B[38;5;124m/tmp/uniswap-v3-price-scan.json\u001B[39m\u001B[38;5;124m\"\u001B[39m)\n\u001B[1;32m     12\u001B[0m \u001B[38;5;66;03m# Load the events and write them into a CSV file.\u001B[39;00m\n\u001B[1;32m     13\u001B[0m \u001B[38;5;66;03m# Several different CSV files are created,\u001B[39;00m\n\u001B[1;32m     14\u001B[0m \u001B[38;5;66;03m# each for one event type: swap, pool created, mint, burn\u001B[39;00m\n\u001B[0;32m---> 15\u001B[0m web3 \u001B[38;5;241m=\u001B[39m \u001B[43mfetch_events_to_csv\u001B[49m\u001B[43m(\u001B[49m\n\u001B[1;32m     16\u001B[0m \u001B[43m    \u001B[49m\u001B[43mjson_rpc_url\u001B[49m\u001B[43m,\u001B[49m\n\u001B[1;32m     17\u001B[0m \u001B[43m    \u001B[49m\u001B[43mstate\u001B[49m\u001B[43m,\u001B[49m\n\u001B[1;32m     18\u001B[0m \u001B[43m    \u001B[49m\u001B[43mstart_block\u001B[49m\u001B[38;5;241;43m=\u001B[39;49m\u001B[43mstart_block\u001B[49m\u001B[43m,\u001B[49m\n\u001B[1;32m     19\u001B[0m \u001B[43m    \u001B[49m\u001B[43mend_block\u001B[49m\u001B[38;5;241;43m=\u001B[39;49m\u001B[43mend_block\u001B[49m\u001B[43m,\u001B[49m\n\u001B[1;32m     20\u001B[0m \u001B[43m    \u001B[49m\u001B[43moutput_folder\u001B[49m\u001B[38;5;241;43m=\u001B[39;49m\u001B[38;5;124;43m\"\u001B[39;49m\u001B[38;5;124;43m/tmp\u001B[39;49m\u001B[38;5;124;43m\"\u001B[39;49m\u001B[43m,\u001B[49m\n\u001B[1;32m     21\u001B[0m \u001B[43m    \u001B[49m\u001B[38;5;66;43;03m# Configure depending on what's eth_getLogs\u001B[39;49;00m\n\u001B[1;32m     22\u001B[0m \u001B[43m    \u001B[49m\u001B[38;5;66;43;03m# limit of your JSON-RPC provider\u001B[39;49;00m\n\u001B[1;32m     23\u001B[0m \u001B[43m    \u001B[49m\u001B[43mmax_blocks_once\u001B[49m\u001B[38;5;241;43m=\u001B[39;49m\u001B[38;5;241;43m2000\u001B[39;49m\u001B[43m,\u001B[49m\n\u001B[1;32m     24\u001B[0m \u001B[43m    \u001B[49m\u001B[38;5;66;43;03m# Do reading and decoding in 10 parallel threads\u001B[39;49;00m\n\u001B[1;32m     25\u001B[0m \u001B[43m    \u001B[49m\u001B[43mmax_threads\u001B[49m\u001B[38;5;241;43m=\u001B[39;49m\u001B[38;5;241;43m10\u001B[39;49m\u001B[43m,\u001B[49m\n\u001B[1;32m     26\u001B[0m \u001B[43m)\u001B[49m\n",
      "File \u001B[0;32m~/code/ts/trade-executor/deps/web3-ethereum-defi/eth_defi/uniswap_v3/events.py:448\u001B[0m, in \u001B[0;36mfetch_events_to_csv\u001B[0;34m(json_rpc_url, state, start_block, end_block, output_folder, max_workers, log_info, max_blocks_once, max_threads)\u001B[0m\n\u001B[1;32m    440\u001B[0m reader \u001B[38;5;241m=\u001B[39m MultithreadEventReader(\n\u001B[1;32m    441\u001B[0m     json_rpc_url,\n\u001B[1;32m    442\u001B[0m     notify\u001B[38;5;241m=\u001B[39mupdate_progress,\n\u001B[1;32m    443\u001B[0m     max_blocks_once\u001B[38;5;241m=\u001B[39mmax_blocks_once,\n\u001B[1;32m    444\u001B[0m     max_threads\u001B[38;5;241m=\u001B[39m\u001B[38;5;241m10\u001B[39m,\n\u001B[1;32m    445\u001B[0m )\n\u001B[1;32m    447\u001B[0m \u001B[38;5;66;03m# Stream events from the multi-threaded reader\u001B[39;00m\n\u001B[0;32m--> 448\u001B[0m \u001B[38;5;28;01mfor\u001B[39;00m log_result \u001B[38;5;129;01min\u001B[39;00m reader(\n\u001B[1;32m    449\u001B[0m     web3,\n\u001B[1;32m    450\u001B[0m     restored_start_block,\n\u001B[1;32m    451\u001B[0m     end_block,\n\u001B[1;32m    452\u001B[0m     \u001B[38;5;28mfilter\u001B[39m\u001B[38;5;241m=\u001B[39m\u001B[38;5;28mfilter\u001B[39m,\n\u001B[1;32m    453\u001B[0m     extract_timestamps\u001B[38;5;241m=\u001B[39mextract_timestamps_json_rpc_lazy,\n\u001B[1;32m    454\u001B[0m ):\n\u001B[1;32m    455\u001B[0m     \u001B[38;5;28;01mtry\u001B[39;00m:\n\u001B[1;32m    456\u001B[0m         event_name \u001B[38;5;241m=\u001B[39m log_result[\u001B[38;5;124m\"\u001B[39m\u001B[38;5;124mevent\u001B[39m\u001B[38;5;124m\"\u001B[39m]\u001B[38;5;241m.\u001B[39mevent_name  \u001B[38;5;66;03m# Which event this is: Swap, Burn,...\u001B[39;00m\n",
      "File \u001B[0;32m~/code/ts/trade-executor/deps/web3-ethereum-defi/eth_defi/event_reader/multithread.py:270\u001B[0m, in \u001B[0;36mMultithreadEventReader.__call__\u001B[0;34m(self, web3, start_block, end_block, events, filter, extract_timestamps)\u001B[0m\n\u001B[1;32m    226\u001B[0m \u001B[38;5;28;01mdef\u001B[39;00m \u001B[38;5;21m__call__\u001B[39m(\n\u001B[1;32m    227\u001B[0m     \u001B[38;5;28mself\u001B[39m,\n\u001B[1;32m    228\u001B[0m     web3: ReaderConnection,\n\u001B[0;32m   (...)\u001B[0m\n\u001B[1;32m    233\u001B[0m     extract_timestamps: Optional[Callable] \u001B[38;5;241m=\u001B[39m \u001B[38;5;28;01mNone\u001B[39;00m,\n\u001B[1;32m    234\u001B[0m ) \u001B[38;5;241m-\u001B[39m\u001B[38;5;241m>\u001B[39m Iterable[LogResult]:\n\u001B[1;32m    235\u001B[0m \u001B[38;5;250m    \u001B[39m\u001B[38;5;124;03m\"\"\"Wrap the underlying low-level function.\u001B[39;00m\n\u001B[1;32m    236\u001B[0m \n\u001B[1;32m    237\u001B[0m \u001B[38;5;124;03m    Wrap :py:func:`eth_defi.reader.reader.read_events_concurrent` using worker pools we have set up.\u001B[39;00m\n\u001B[0;32m   (...)\u001B[0m\n\u001B[1;32m    268\u001B[0m \n\u001B[1;32m    269\u001B[0m \u001B[38;5;124;03m    \"\"\"\u001B[39;00m\n\u001B[0;32m--> 270\u001B[0m     \u001B[38;5;28;01myield from\u001B[39;00m read_events_concurrent(\n\u001B[1;32m    271\u001B[0m         \u001B[38;5;28mself\u001B[39m\u001B[38;5;241m.\u001B[39mexecutor,\n\u001B[1;32m    272\u001B[0m         start_block,\n\u001B[1;32m    273\u001B[0m         end_block,\n\u001B[1;32m    274\u001B[0m         events\u001B[38;5;241m=\u001B[39mevents,\n\u001B[1;32m    275\u001B[0m         \u001B[38;5;28mfilter\u001B[39m\u001B[38;5;241m=\u001B[39m\u001B[38;5;28mfilter\u001B[39m,\n\u001B[1;32m    276\u001B[0m         reorg_mon\u001B[38;5;241m=\u001B[39m\u001B[38;5;28mself\u001B[39m\u001B[38;5;241m.\u001B[39mreorg_mon,\n\u001B[1;32m    277\u001B[0m         notify\u001B[38;5;241m=\u001B[39m\u001B[38;5;28mself\u001B[39m\u001B[38;5;241m.\u001B[39mnotify,\n\u001B[1;32m    278\u001B[0m         extract_timestamps\u001B[38;5;241m=\u001B[39mextract_timestamps,\n\u001B[1;32m    279\u001B[0m         chunk_size\u001B[38;5;241m=\u001B[39m\u001B[38;5;28mself\u001B[39m\u001B[38;5;241m.\u001B[39mmax_blocks_once,\n\u001B[1;32m    280\u001B[0m     )\n",
      "File \u001B[0;32m~/code/ts/trade-executor/deps/web3-ethereum-defi/eth_defi/event_reader/reader.py:686\u001B[0m, in \u001B[0;36mread_events_concurrent\u001B[0;34m(executor, start_block, end_block, events, notify, chunk_size, context, extract_timestamps, filter, reorg_mon)\u001B[0m\n\u001B[1;32m    681\u001B[0m processed_chunks: Set[\u001B[38;5;28mint\u001B[39m] \u001B[38;5;241m=\u001B[39m \u001B[38;5;28mset\u001B[39m()\n\u001B[1;32m    683\u001B[0m \u001B[38;5;66;03m# Complete the tasks.\u001B[39;00m\n\u001B[1;32m    684\u001B[0m \u001B[38;5;66;03m# Always guarantee the block order for the caller,\u001B[39;00m\n\u001B[1;32m    685\u001B[0m \u001B[38;5;66;03m# so that events are iterated in the correct order\u001B[39;00m\n\u001B[0;32m--> 686\u001B[0m \u001B[38;5;28;01mfor\u001B[39;00m task \u001B[38;5;129;01min\u001B[39;00m tm\u001B[38;5;241m.\u001B[39mas_completed():\n\u001B[1;32m    687\u001B[0m     block_num \u001B[38;5;241m=\u001B[39m task\u001B[38;5;241m.\u001B[39margs[\u001B[38;5;241m0\u001B[39m]  \u001B[38;5;66;03m# Peekaboo\u001B[39;00m\n\u001B[1;32m    688\u001B[0m     completed_tasks[block_num] \u001B[38;5;241m=\u001B[39m task\n",
      "File \u001B[0;32m~/Library/Caches/pypoetry/virtualenvs/web3-ethereum-defi-r0lBdNCP-py3.10/lib/python3.10/site-packages/futureproof/task_manager.py:129\u001B[0m, in \u001B[0;36mTaskManager.as_completed\u001B[0;34m(self)\u001B[0m\n\u001B[1;32m    127\u001B[0m     \u001B[38;5;28;01mif\u001B[39;00m \u001B[38;5;28mself\u001B[39m\u001B[38;5;241m.\u001B[39m_tasks_in_queue \u001B[38;5;241m==\u001B[39m \u001B[38;5;28mself\u001B[39m\u001B[38;5;241m.\u001B[39m_executor\u001B[38;5;241m.\u001B[39mmax_workers:\n\u001B[1;32m    128\u001B[0m         logger\u001B[38;5;241m.\u001B[39mdebug(\u001B[38;5;124m\"\u001B[39m\u001B[38;5;124mQueue full, waiting for result\u001B[39m\u001B[38;5;124m\"\u001B[39m)\n\u001B[0;32m--> 129\u001B[0m         \u001B[38;5;28;01myield\u001B[39;00m \u001B[38;5;28;43mself\u001B[39;49m\u001B[38;5;241;43m.\u001B[39;49m\u001B[43m_wait_for_result\u001B[49m\u001B[43m(\u001B[49m\u001B[43m)\u001B[49m\n\u001B[1;32m    131\u001B[0m     \u001B[38;5;28mself\u001B[39m\u001B[38;5;241m.\u001B[39m_submit_task(task)\n\u001B[1;32m    133\u001B[0m \u001B[38;5;28;01mwhile\u001B[39;00m \u001B[38;5;28mlen\u001B[39m(\u001B[38;5;28mself\u001B[39m\u001B[38;5;241m.\u001B[39mcompleted_tasks) \u001B[38;5;241m<\u001B[39m \u001B[38;5;28mself\u001B[39m\u001B[38;5;241m.\u001B[39m_submitted_task_count:\n",
      "File \u001B[0;32m~/Library/Caches/pypoetry/virtualenvs/web3-ethereum-defi-r0lBdNCP-py3.10/lib/python3.10/site-packages/futureproof/task_manager.py:177\u001B[0m, in \u001B[0;36mTaskManager._wait_for_result\u001B[0;34m(self)\u001B[0m\n\u001B[1;32m    175\u001B[0m \u001B[38;5;28;01mdef\u001B[39;00m \u001B[38;5;21m_wait_for_result\u001B[39m(\u001B[38;5;28mself\u001B[39m) \u001B[38;5;241m-\u001B[39m\u001B[38;5;241m>\u001B[39m Task:\n\u001B[1;32m    176\u001B[0m \u001B[38;5;250m    \u001B[39m\u001B[38;5;124;03m\"\"\"Gather result from a submitted tasks.\"\"\"\u001B[39;00m\n\u001B[0;32m--> 177\u001B[0m     completed_task \u001B[38;5;241m=\u001B[39m \u001B[38;5;28;43mself\u001B[39;49m\u001B[38;5;241;43m.\u001B[39;49m\u001B[43m_results_queue\u001B[49m\u001B[38;5;241;43m.\u001B[39;49m\u001B[43mget\u001B[49m\u001B[43m(\u001B[49m\u001B[43mblock\u001B[49m\u001B[38;5;241;43m=\u001B[39;49m\u001B[38;5;28;43;01mTrue\u001B[39;49;00m\u001B[43m)\u001B[49m\n\u001B[1;32m    178\u001B[0m     logger\u001B[38;5;241m.\u001B[39mdebug(\u001B[38;5;124m\"\u001B[39m\u001B[38;5;124mGathering result for completed task \u001B[39m\u001B[38;5;132;01m%r\u001B[39;00m\u001B[38;5;124m\"\u001B[39m, completed_task)\n\u001B[1;32m    179\u001B[0m     \u001B[38;5;28mself\u001B[39m\u001B[38;5;241m.\u001B[39m_tasks_in_queue \u001B[38;5;241m-\u001B[39m\u001B[38;5;241m=\u001B[39m \u001B[38;5;241m1\u001B[39m\n",
      "File \u001B[0;32m/opt/homebrew/Cellar/python@3.10/3.10.13/Frameworks/Python.framework/Versions/3.10/lib/python3.10/queue.py:171\u001B[0m, in \u001B[0;36mQueue.get\u001B[0;34m(self, block, timeout)\u001B[0m\n\u001B[1;32m    169\u001B[0m \u001B[38;5;28;01melif\u001B[39;00m timeout \u001B[38;5;129;01mis\u001B[39;00m \u001B[38;5;28;01mNone\u001B[39;00m:\n\u001B[1;32m    170\u001B[0m     \u001B[38;5;28;01mwhile\u001B[39;00m \u001B[38;5;129;01mnot\u001B[39;00m \u001B[38;5;28mself\u001B[39m\u001B[38;5;241m.\u001B[39m_qsize():\n\u001B[0;32m--> 171\u001B[0m         \u001B[38;5;28;43mself\u001B[39;49m\u001B[38;5;241;43m.\u001B[39;49m\u001B[43mnot_empty\u001B[49m\u001B[38;5;241;43m.\u001B[39;49m\u001B[43mwait\u001B[49m\u001B[43m(\u001B[49m\u001B[43m)\u001B[49m\n\u001B[1;32m    172\u001B[0m \u001B[38;5;28;01melif\u001B[39;00m timeout \u001B[38;5;241m<\u001B[39m \u001B[38;5;241m0\u001B[39m:\n\u001B[1;32m    173\u001B[0m     \u001B[38;5;28;01mraise\u001B[39;00m \u001B[38;5;167;01mValueError\u001B[39;00m(\u001B[38;5;124m\"\u001B[39m\u001B[38;5;124m'\u001B[39m\u001B[38;5;124mtimeout\u001B[39m\u001B[38;5;124m'\u001B[39m\u001B[38;5;124m must be a non-negative number\u001B[39m\u001B[38;5;124m\"\u001B[39m)\n",
      "File \u001B[0;32m/opt/homebrew/Cellar/python@3.10/3.10.13/Frameworks/Python.framework/Versions/3.10/lib/python3.10/threading.py:320\u001B[0m, in \u001B[0;36mCondition.wait\u001B[0;34m(self, timeout)\u001B[0m\n\u001B[1;32m    318\u001B[0m \u001B[38;5;28;01mtry\u001B[39;00m:    \u001B[38;5;66;03m# restore state no matter what (e.g., KeyboardInterrupt)\u001B[39;00m\n\u001B[1;32m    319\u001B[0m     \u001B[38;5;28;01mif\u001B[39;00m timeout \u001B[38;5;129;01mis\u001B[39;00m \u001B[38;5;28;01mNone\u001B[39;00m:\n\u001B[0;32m--> 320\u001B[0m         \u001B[43mwaiter\u001B[49m\u001B[38;5;241;43m.\u001B[39;49m\u001B[43macquire\u001B[49m\u001B[43m(\u001B[49m\u001B[43m)\u001B[49m\n\u001B[1;32m    321\u001B[0m         gotit \u001B[38;5;241m=\u001B[39m \u001B[38;5;28;01mTrue\u001B[39;00m\n\u001B[1;32m    322\u001B[0m     \u001B[38;5;28;01melse\u001B[39;00m:\n",
      "\u001B[0;31mKeyboardInterrupt\u001B[0m: "
     ]
    }
   ],
   "source": [
    "from eth_defi.uniswap_v3.constants import UNISWAP_V3_FACTORY_CREATED_AT_BLOCK\n",
    "from eth_defi.uniswap_v3.events import fetch_events_to_csv\n",
    "from eth_defi.event_reader.json_state import JSONFileScanState\n",
    "\n",
    "# Take a snapshot of 250,000 blocks after Uniswap v3 deployment\n",
    "start_block = UNISWAP_V3_FACTORY_CREATED_AT_BLOCK\n",
    "end_block = UNISWAP_V3_FACTORY_CREATED_AT_BLOCK + 250_000\n",
    "\n",
    "# Stores the last block number of event data we store\n",
    "state = JSONFileScanState(\"/tmp/uniswap-v3-price-scan.json\")\n",
    "\n",
    "print(f\"Data snapshot range set to {start_block:,} - {end_block:,}\")\n",
    "\n",
    "# Load the events and write them into a CSV file.\n",
    "# Several different CSV files are created,\n",
    "# each for one event type: swap, pool created, mint, burn\n",
    "web3 = fetch_events_to_csv(\n",
    "    json_rpc_url,\n",
    "    state,\n",
    "    start_block=start_block,\n",
    "    end_block=end_block,\n",
    "    output_folder=\"/tmp\",\n",
    "    # Configure depending on what's eth_getLogs\n",
    "    # limit of your JSON-RPC provider\n",
    "    max_blocks_once=222,\n",
    "    # Do reading and decoding in parallel threads\n",
    "    max_threads=8,\n",
    ")\n",
    "\n"
   ]
  },
  {
   "cell_type": "code",
   "execution_count": null,
   "outputs": [],
   "source": [
    "## JSON-RPC API usage\n",
    "\n",
    "Show how many API calls we made to our JSON-RPC provider.\n"
   ],
   "metadata": {
    "collapsed": false,
    "ExecuteTime": {
     "start_time": "2023-10-29T11:40:16.146796Z"
    }
   }
  },
  {
   "cell_type": "code",
   "execution_count": null,
   "outputs": [],
   "source": [
    "import pandas as pd\n",
    "\n",
    "api_call_counts = web3.get_api_call_counts()\n",
    "\n",
    "data = [(k, v) for k, v in api_call_counts.items()]\n",
    "df = pd.DataFrame(data, columns=[\"endpoint\", \"calls\",])\n",
    "df"
   ],
   "metadata": {
    "collapsed": false
   }
  },
  {
   "cell_type": "markdown",
   "metadata": {},
   "source": [
    "### Analysing Uniswap v3 price formation\n",
    "\n",
    "In Uniswap V3, you can get the current price of any pool from any given moment using swap events."
   ]
  },
  {
   "cell_type": "code",
   "execution_count": null,
   "metadata": {},
   "outputs": [],
   "source": [
    "swap_df = pd.read_csv(\"/tmp/uniswap-v3-swap.csv\")\n",
    "\n",
    "print(f\"We have total {len(swap_df):,} swaps in the dataset\")"
   ]
  },
  {
   "cell_type": "markdown",
   "metadata": {},
   "source": [
    "Choose a pool to analyse, for example: USDC/ETH 0.3%.\n",
    "You can find pool addresses [on Uniswap v3 info site](https://info.uniswap.org/#/)."
   ]
  },
  {
   "cell_type": "code",
   "execution_count": null,
   "metadata": {},
   "outputs": [],
   "source": [
    "from eth_defi.uniswap_v3.pool import fetch_pool_details\n",
    "\n",
    "pool_address = \"0x8ad599c3A0ff1De082011EFDDc58f1908eb6e6D8\"\n",
    "pool_details = fetch_pool_details(web3, pool_address)\n",
    "\n",
    "print(pool_details)\n",
    "print(\"token0 is\", pool_details.token0, \"with\", pool_details.token0.decimals, \"decimals\")\n",
    "print(\"token1 is\", pool_details.token1, \"with\", pool_details.token1.decimals, \"decimals\")"
   ]
  },
  {
   "cell_type": "markdown",
   "metadata": {},
   "source": [
    "Extract the swaps of this pool from the Uniswap v3 full dataset of all pools."
   ]
  },
  {
   "cell_type": "code",
   "execution_count": null,
   "metadata": {},
   "outputs": [],
   "source": [
    "df = swap_df.loc[swap_df.pool_contract_address == pool_address.lower()]\n",
    "df"
   ]
  },
  {
   "cell_type": "markdown",
   "metadata": {},
   "source": [
    "In Uniswap V3, we can get pool's price from pool's tick."
   ]
  },
  {
   "cell_type": "code",
   "execution_count": null,
   "metadata": {},
   "outputs": [],
   "source": [
    "def convert_price(row):\n",
    "    # USDC/WETH pool has reverse token order, so let's flip it WETH/USDC\n",
    "    tick = row[\"tick\"]\n",
    "    return pool_details.convert_price_to_human(tick, reverse_token_order=True)\n",
    "\n",
    "def convert_value(row):\n",
    "    # USDC is token0 and amount0\n",
    "    price = float(row[\"price\"])\n",
    "    return abs(float(row[\"amount0\"])) / (10**pool_details.token0.decimals)\n",
    "\n",
    "df = df.copy(deep=True)  # https://stackoverflow.com/a/60885847/315168\n",
    "df[\"price\"] = df.apply(convert_price, axis=1)\n",
    "df[\"value\"] = df.apply(convert_value, axis=1)\n",
    "df[[\"block_number\", \"timestamp\", \"tick\", \"price\", \"value\"]]"
   ]
  },
  {
   "cell_type": "markdown",
   "metadata": {},
   "source": [
    "Then we can convert linear price data to [OHLC candles](https://tradingstrategy.ai/docs/glossary.html#term-OHLCV)."
   ]
  },
  {
   "cell_type": "code",
   "execution_count": null,
   "metadata": {
    "collapsed": false,
    "pycharm": {
     "name": "#%%\n"
    }
   },
   "outputs": [],
   "source": [
    "from eth_defi.research.candle import convert_to_ohlcv_candles\n",
    "\n",
    "candles = convert_to_ohlcv_candles(df, time_bucket=pd.Timedelta(\"4h\"))\n",
    "\n",
    "# Show only 100 first candles\n",
    "candles = candles.head(100)\n",
    "\n",
    "candles"
   ]
  },
  {
   "cell_type": "markdown",
   "metadata": {
    "collapsed": false,
    "pycharm": {
     "name": "#%% md\n"
    }
   },
   "source": [
    "### Drawing OHLCV chart\n",
    "\n",
    "Now we can plot the [OHLC chart using Plotly](https://plotly.com/python/ohlc-charts/)."
   ]
  },
  {
   "cell_type": "code",
   "execution_count": null,
   "metadata": {
    "pycharm": {
     "name": "#%%\n"
    }
   },
   "outputs": [],
   "source": [
    "import plotly.graph_objects as go\n",
    "from plotly.subplots import make_subplots\n",
    "\n",
    "candlesticks = go.Candlestick(\n",
    "    x=candles.index,\n",
    "    open=candles['open'],\n",
    "    high=candles['high'],\n",
    "    low=candles['low'],\n",
    "    close=candles['close'],\n",
    "    showlegend=False\n",
    ")\n",
    "\n",
    "volume_bars = go.Bar(\n",
    "    x=candles.index,\n",
    "    y=candles['volume'],\n",
    "    showlegend=False,\n",
    "    marker={\n",
    "        \"color\": \"rgba(128,128,128,0.5)\",\n",
    "    }\n",
    ")\n",
    "\n",
    "fig = go.Figure(candlesticks)\n",
    "fig = make_subplots(specs=[[{\"secondary_y\": True}]])\n",
    "fig.add_trace(candlesticks, secondary_y=True)\n",
    "fig.add_trace(volume_bars, secondary_y=False)\n",
    "fig.update_layout(title=\"ETH/USDC pool after Uniswap v3 deployment\", height=800)\n",
    "fig.update_yaxes(title=\"Price $\", secondary_y=True, showgrid=True)\n",
    "fig.update_yaxes(title=\"Volume $\", secondary_y=False, showgrid=False)\n",
    "fig.show()"
   ]
  }
 ],
 "metadata": {
  "interpreter": {
   "hash": "9b6697946b59f1cda35d1a9d955611df8679c38ae8cee6d6fc35b656a9a31b3c"
  },
  "kernelspec": {
   "display_name": "Python 3.9.10 ('web3-ethereum-defi-0d8b7oDT-py3.9')",
   "language": "python",
   "name": "python3"
  },
  "language_info": {
   "codemirror_mode": {
    "name": "ipython",
    "version": 3
   },
   "file_extension": ".py",
   "mimetype": "text/x-python",
   "name": "python",
   "nbconvert_exporter": "python",
   "pygments_lexer": "ipython3",
   "version": "3.9.10"
  },
  "orig_nbformat": 4
 },
 "nbformat": 4,
 "nbformat_minor": 2
}
