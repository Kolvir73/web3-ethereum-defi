{
 "cells": [
  {
   "cell_type": "markdown",
   "metadata": {},
   "source": [
    "# Uniswap V3 OHCLV candle price analysis\n",
    "\n",
    "In this notebook we will show how to download price events from Uniswap V3 to your computer as CSV files and use them to analyse price in each pool.\n",
    "This will generate an [OHLCV price chart](https://tradingstrategy.ai/glossary/ohlcv).\n",
    "\n",
    "- The notebook will fetch price data for all pairs on Uniswap v3 Ethereum which traded at a specific period, or a block range.\n",
    "\n",
    "- Running this notebook will do ~1M API requests on your JSON-RPC provider. You can reduce the scanned block range to decrease the number of API requests.\n",
    "\n",
    "- Running this notebook will be slow (hours), depending how high quality your JSON-RPC provider is. With a local JSON-RPC node it completes in few minutes."
   ]
  },
  {
   "cell_type": "markdown",
   "source": [
    "## Prerequisites\n",
    "\n",
    "* For more background information, see [this blog post about the topic](https://tradingstrategy.ai/blog/uniswap-data-research-with-jupyter-and-python)\n",
    "\n",
    "* [See here a tutorial how to set up your local development environment to run this notebook](https://tradingstrategy.ai/docs/programming/setting-up-development-environment/index.html)\n",
    "\n",
    "* For easier access to data, see also [Trading Strategy historical datasets](https://tradingstrategy.ai/trading-view/backtesting)\n",
    "  where you can batch download historical data in one file\n",
    "\n",
    "* You need to understand [Jupyter Notebook and Pandas basics](https://jakevdp.github.io/PythonDataScienceHandbook/)\n",
    "\n",
    "* You need to understand [Ethereum](https://github.com/ethereumbook/ethereumbook) and [Web3.py basics](https://web3py.readthedocs.io/)\n",
    "\n",
    "* You know how to use [Plotly charting library for Python](https://plotly.com/)\n",
    "\n",
    "* You will need to have [Ethereum API node and its JSON-RPC URL](https://ethereumnodes.com/) in order to pull out the data from Ethereum blockchain. The notebook will interactively ask you for your API key.\n",
    "\n",
    "* You will need to install [web3-ethereum-defi](https://github.com/tradingstrategy-ai/web3-ethereum-defi) Python package\n",
    "\n",
    "* This notebook uses UNIX style paths and may not run on Microsoft Windows unless modified."
   ],
   "metadata": {
    "collapsed": false
   }
  },
  {
   "cell_type": "markdown",
   "source": [
    "### Running\n",
    "\n",
    "Run the notebook in Visual Studio Code or similar.\n",
    "\n",
    "To run from the command line using IPython command:\n",
    "\n",
    "```shell\n",
    "ipython docs/source/tutorials/uniswap-v3-price-analysis.ipynb\n",
    "```\n",
    "\n",
    "To reset the scan state delete `/tmp/uniswap-v3-price-scan.json` and related CSV files:\n",
    "\n",
    "```shell\n",
    "rm /tmp/uniswap-v3-*\n",
    "```"
   ],
   "metadata": {
    "collapsed": false
   }
  },
  {
   "cell_type": "markdown",
   "source": [
    "## Extracting and transforming the data\n",
    "\n",
    "This will extract Uniswap v3 events, save them in temporary CSV files,\n",
    "and then transforms them to OHLCV data."
   ],
   "metadata": {
    "collapsed": false
   }
  },
  {
   "cell_type": "markdown",
   "metadata": {},
   "source": [
    "### Download the raw data from Ethereum blockchain\n",
    "\n",
    "You can sign up for free access to an Ethereum node, see [ethereumnodes.com](https://ethereumnodes.com/) for details. If you run your local [run your own Ethereum full node node with transaction receipts retained](https://tradingstrategy.ai/blog/preparing-a-server-for-hosting-goethereum-full-node), the speed up of fetching data is 100x - 1000x."
   ]
  },
  {
   "cell_type": "code",
   "execution_count": 4,
   "metadata": {
    "ExecuteTime": {
     "end_time": "2023-10-29T14:57:52.378560Z",
     "start_time": "2023-10-29T14:57:38.072037Z"
    }
   },
   "outputs": [],
   "source": [
    "from eth_defi.provider.multi_provider import create_multi_provider_web3\n",
    "import os\n",
    "from web3 import Web3, HTTPProvider\n",
    "\n",
    "# Get your node JSON-RPC URL\n",
    "# interactively when you run the notebook.\n",
    "# The actual UI prompt will depend on your environment (Visual Studio Code, Jupyter Notebook, etc.).\n",
    "# If you are running from command line you can also pass this as JSON_RPC_ETHEREUM environment\n",
    "# variable\n",
    "json_rpc_url = os.environ.get(\"JSON_RPC_ETHEREUM\")\n",
    "if not json_rpc_url:\n",
    "    json_rpc_url = input(\"Please enter your Ethereum mainnet JSON-RPC URL here: \")\n",
    "web3 = create_multi_provider_web3(json_rpc_url)\n",
    "\n",
    "# Configure logging for diagnostics if needed\n",
    "#import logging\n",
    "#import sys\n",
    "#logging.basicConfig(level=logging.DEBUG, stream=sys.stdout)"
   ]
  },
  {
   "cell_type": "markdown",
   "metadata": {},
   "source": [
    "As an example, here we download raw events from first few blocks after Uniswap V3 was deployed.\n",
    "The events will be stored in several CSV files at `/tmp` folder.\n",
    "\n",
    "Depends on your internet connection and latency to the Ethereum node, the scan might take hours. However it can resume in case there is a crash, as we save the last scanned block in a JSON state file.\n",
    "\n",
    "[See the source code of fetch_events_to_csv](https://web3-ethereum-defi.readthedocs.io/_modules/eth_defi/uniswap_v3/events.html#fetch_events_to_csv).\n",
    "\n",
    "**Note**: Progress bar might be slow to update at the start."
   ]
  },
  {
   "cell_type": "code",
   "execution_count": 5,
   "metadata": {
    "ExecuteTime": {
     "end_time": "2023-10-29T14:58:12.303243Z",
     "start_time": "2023-10-29T14:57:52.347350Z"
    }
   },
   "outputs": [
    {
     "name": "stderr",
     "output_type": "stream",
     "text": [
      "Switched RPC providers eth-mainnet.g.alchemy.com -> eth-mainnet.g.alchemy.com\n",
      "\n",
      "Encountered JSON-RPC retryable error ('Connection aborted.', RemoteDisconnected('Remote end closed connection without response')) when calling method:\n",
      "eth_chainId(())\n",
      " Retrying in 0.100000 seconds, retry #0 / 6\n"
     ]
    },
    {
     "name": "stdout",
     "output_type": "stream",
     "text": [
      "Data snapshot range set to 12,369,621 - 12,619,621\n",
      "Restored previous scan state, data until block 12,619,519, we are skipping 249,898 blocks out of 250,000 total\n",
      "Scanning block range 12,619,519 - 12,619,621\n"
     ]
    },
    {
     "data": {
      "text/plain": "  0%|          | 0/102 [00:00<?, ?it/s]",
      "application/vnd.jupyter.widget-view+json": {
       "version_major": 2,
       "version_minor": 0,
       "model_id": "8f0ec5426f934a5284009b0d9995eb07"
      }
     },
     "metadata": {},
     "output_type": "display_data"
    },
    {
     "name": "stdout",
     "output_type": "stream",
     "text": [
      "Wrote 0 PoolCreated events to /tmp/uniswap-v3-poolcreated.csv\n",
      "Wrote 0 Swap events to /tmp/uniswap-v3-swap.csv\n",
      "Wrote 0 Mint events to /tmp/uniswap-v3-mint.csv\n",
      "Wrote 0 Burn events to /tmp/uniswap-v3-burn.csv\n"
     ]
    }
   ],
   "source": [
    "from eth_defi.uniswap_v3.constants import UNISWAP_V3_FACTORY_CREATED_AT_BLOCK\n",
    "from eth_defi.uniswap_v3.events import fetch_events_to_csv\n",
    "from eth_defi.event_reader.json_state import JSONFileScanState\n",
    "\n",
    "# Take a snapshot of 250,000 blocks after Uniswap v3 deployment\n",
    "start_block = UNISWAP_V3_FACTORY_CREATED_AT_BLOCK\n",
    "end_block = UNISWAP_V3_FACTORY_CREATED_AT_BLOCK + 250_000\n",
    "\n",
    "# Stores the last block number of event data we store\n",
    "state = JSONFileScanState(\"/tmp/uniswap-v3-price-scan.json\")\n",
    "\n",
    "print(f\"Data snapshot range set to {start_block:,} - {end_block:,}\")\n",
    "\n",
    "# Load the events and write them into a CSV file.\n",
    "# Several different CSV files are created,\n",
    "# each for one event type: swap, pool created, mint, burn\n",
    "web3 = fetch_events_to_csv(\n",
    "    json_rpc_url,\n",
    "    state,\n",
    "    start_block=start_block,\n",
    "    end_block=end_block,\n",
    "    output_folder=\"/tmp\",\n",
    "    # Configure depending on what's eth_getLogs\n",
    "    # limit of your JSON-RPC provider and also\n",
    "    # how often you want to see progress bar updates\n",
    "    max_blocks_once=222,\n",
    "    # Do reading and decoding in parallel threads\n",
    "    max_threads=8,\n",
    ")\n",
    "\n"
   ]
  },
  {
   "cell_type": "markdown",
   "source": [
    "### JSON-RPC API usage\n",
    "\n",
    "Show how many API calls we made to our JSON-RPC provider.\n",
    "\n",
    "It's important to follow your API usage counts, as most commercial vendors charge or limit you be the API request count.\n"
   ],
   "metadata": {
    "collapsed": false
   }
  },
  {
   "cell_type": "code",
   "execution_count": 12,
   "outputs": [
    {
     "name": "stdout",
     "output_type": "stream",
     "text": [
      "APi call statistics\n"
     ]
    },
    {
     "data": {
      "text/plain": "          calls\nendpoint       \neth_call      1\nfoobar        2",
      "text/html": "<div>\n<style scoped>\n    .dataframe tbody tr th:only-of-type {\n        vertical-align: middle;\n    }\n\n    .dataframe tbody tr th {\n        vertical-align: top;\n    }\n\n    .dataframe thead th {\n        text-align: right;\n    }\n</style>\n<table border=\"1\" class=\"dataframe\">\n  <thead>\n    <tr style=\"text-align: right;\">\n      <th></th>\n      <th>calls</th>\n    </tr>\n    <tr>\n      <th>endpoint</th>\n      <th></th>\n    </tr>\n  </thead>\n  <tbody>\n    <tr>\n      <th>eth_call</th>\n      <td>1</td>\n    </tr>\n    <tr>\n      <th>foobar</th>\n      <td>2</td>\n    </tr>\n  </tbody>\n</table>\n</div>"
     },
     "metadata": {},
     "output_type": "display_data"
    }
   ],
   "source": [
    "import pandas as pd\n",
    "\n",
    "api_call_counts = web3.get_api_call_counts()\n",
    "\n",
    "data = [(k, v) for k, v in api_call_counts.items()]\n",
    "df = pd.DataFrame(data, columns=[\"Endpoint\", \"Number of JSON-RPC API calls\",])\n",
    "df = df.set_index(\"endpoint\")\n",
    "\n",
    "print(\"APi call statistics\")\n",
    "display(df)"
   ],
   "metadata": {
    "collapsed": false,
    "ExecuteTime": {
     "end_time": "2023-10-29T14:59:16.393346Z",
     "start_time": "2023-10-29T14:59:16.372199Z"
    }
   }
  },
  {
   "cell_type": "markdown",
   "metadata": {},
   "source": [
    "### Analysing Uniswap v3 price formation\n",
    "\n",
    "In Uniswap V3, you can get the current price of any pool from any given moment using swap events."
   ]
  },
  {
   "cell_type": "code",
   "execution_count": 13,
   "metadata": {
    "ExecuteTime": {
     "end_time": "2023-10-29T15:02:30.312004Z",
     "start_time": "2023-10-29T15:02:27.273519Z"
    }
   },
   "outputs": [
    {
     "name": "stdout",
     "output_type": "stream",
     "text": [
      "We have total 1,218,802 Uniswap swap events in the loaded dataset\n",
      "Swap data columns are: Index(['12375729', '2021-05-05 18:00:03',\n",
      "       '0xb349853fe3e9c6069d8264202c9d68ad5b737919f0caba061cd7cd1bb0ce5125',\n",
      "       '148', '0x6c6bc977e13df9b0de53b251522280bb72383700',\n",
      "       '-10682019392695845455577', '10700884353', '79463929392012987557434',\n",
      "       '1376178800519845491', '-276265'],\n",
      "      dtype='object')\n"
     ]
    }
   ],
   "source": [
    "swap_df = pd.read_csv(\"/tmp/uniswap-v3-swap.csv\")\n",
    "\n",
    "print(f\"We have total {len(swap_df):,} Uniswap swap events in the loaded dataset\")\n",
    "print(\"Swap data columns are:\", swap_df.columns)"
   ]
  },
  {
   "cell_type": "markdown",
   "metadata": {},
   "source": [
    "Choose a pool to analyse, for example: USDC/ETH 0.3%.\n",
    "You can find pool addresses [on Uniswap v3 info site](https://info.uniswap.org/#/)."
   ]
  },
  {
   "cell_type": "code",
   "execution_count": 8,
   "metadata": {
    "ExecuteTime": {
     "end_time": "2023-10-29T14:58:16.241345Z",
     "start_time": "2023-10-29T14:58:15.290029Z"
    }
   },
   "outputs": [
    {
     "name": "stdout",
     "output_type": "stream",
     "text": [
      "Pool 0x8ad599c3A0ff1De082011EFDDc58f1908eb6e6D8 is USDC-WETH, with the fee 0.3000%\n",
      "token0 is <USD Coin (USDC) at 0xA0b86991c6218b36c1d19D4a2e9Eb0cE3606eB48, 6 decimals, on chain 1> with 6 decimals\n",
      "token1 is <Wrapped Ether (WETH) at 0xC02aaA39b223FE8D0A0e5C4F27eAD9083C756Cc2, 18 decimals, on chain 1> with 18 decimals\n"
     ]
    }
   ],
   "source": [
    "from eth_defi.uniswap_v3.pool import fetch_pool_details\n",
    "\n",
    "pool_address = \"0x8ad599c3A0ff1De082011EFDDc58f1908eb6e6D8\"\n",
    "pool_details = fetch_pool_details(web3, pool_address)\n",
    "\n",
    "print(pool_details)\n",
    "print(\"token0 is\", pool_details.token0)\n",
    "print(\"token1 is\", pool_details.token1)\n"
   ]
  },
  {
   "cell_type": "markdown",
   "metadata": {},
   "source": [
    "Extract the swaps of this pool from the Uniswap v3 full dataset of all pools."
   ]
  },
  {
   "cell_type": "code",
   "execution_count": 9,
   "metadata": {
    "ExecuteTime": {
     "end_time": "2023-10-29T14:58:16.256883Z",
     "start_time": "2023-10-29T14:58:16.245503Z"
    }
   },
   "outputs": [
    {
     "ename": "AttributeError",
     "evalue": "'DataFrame' object has no attribute 'pool_contract_address'",
     "output_type": "error",
     "traceback": [
      "\u001B[0;31m---------------------------------------------------------------------------\u001B[0m",
      "\u001B[0;31mAttributeError\u001B[0m                            Traceback (most recent call last)",
      "\u001B[0;32m/var/folders/12/pbc59svn70q_9dfz1kjl3zww0000gn/T/ipykernel_99095/2434632192.py\u001B[0m in \u001B[0;36m?\u001B[0;34m()\u001B[0m\n\u001B[0;32m----> 1\u001B[0;31m \u001B[0mdf\u001B[0m \u001B[0;34m=\u001B[0m \u001B[0mswap_df\u001B[0m\u001B[0;34m.\u001B[0m\u001B[0mloc\u001B[0m\u001B[0;34m[\u001B[0m\u001B[0mswap_df\u001B[0m\u001B[0;34m.\u001B[0m\u001B[0mpool_contract_address\u001B[0m \u001B[0;34m==\u001B[0m \u001B[0mpool_address\u001B[0m\u001B[0;34m.\u001B[0m\u001B[0mlower\u001B[0m\u001B[0;34m(\u001B[0m\u001B[0;34m)\u001B[0m\u001B[0;34m]\u001B[0m\u001B[0;34m\u001B[0m\u001B[0;34m\u001B[0m\u001B[0m\n\u001B[0m\u001B[1;32m      2\u001B[0m \u001B[0mdf\u001B[0m\u001B[0;34m\u001B[0m\u001B[0;34m\u001B[0m\u001B[0m\n",
      "\u001B[0;32m~/Library/Caches/pypoetry/virtualenvs/web3-ethereum-defi-r0lBdNCP-py3.10/lib/python3.10/site-packages/pandas/core/generic.py\u001B[0m in \u001B[0;36m?\u001B[0;34m(self, name)\u001B[0m\n\u001B[1;32m   5898\u001B[0m             \u001B[0;32mand\u001B[0m \u001B[0mname\u001B[0m \u001B[0;32mnot\u001B[0m \u001B[0;32min\u001B[0m \u001B[0mself\u001B[0m\u001B[0;34m.\u001B[0m\u001B[0m_accessors\u001B[0m\u001B[0;34m\u001B[0m\u001B[0;34m\u001B[0m\u001B[0m\n\u001B[1;32m   5899\u001B[0m             \u001B[0;32mand\u001B[0m \u001B[0mself\u001B[0m\u001B[0;34m.\u001B[0m\u001B[0m_info_axis\u001B[0m\u001B[0;34m.\u001B[0m\u001B[0m_can_hold_identifiers_and_holds_name\u001B[0m\u001B[0;34m(\u001B[0m\u001B[0mname\u001B[0m\u001B[0;34m)\u001B[0m\u001B[0;34m\u001B[0m\u001B[0;34m\u001B[0m\u001B[0m\n\u001B[1;32m   5900\u001B[0m         ):\n\u001B[1;32m   5901\u001B[0m             \u001B[0;32mreturn\u001B[0m \u001B[0mself\u001B[0m\u001B[0;34m[\u001B[0m\u001B[0mname\u001B[0m\u001B[0;34m]\u001B[0m\u001B[0;34m\u001B[0m\u001B[0;34m\u001B[0m\u001B[0m\n\u001B[0;32m-> 5902\u001B[0;31m         \u001B[0;32mreturn\u001B[0m \u001B[0mobject\u001B[0m\u001B[0;34m.\u001B[0m\u001B[0m__getattribute__\u001B[0m\u001B[0;34m(\u001B[0m\u001B[0mself\u001B[0m\u001B[0;34m,\u001B[0m \u001B[0mname\u001B[0m\u001B[0;34m)\u001B[0m\u001B[0;34m\u001B[0m\u001B[0;34m\u001B[0m\u001B[0m\n\u001B[0m",
      "\u001B[0;31mAttributeError\u001B[0m: 'DataFrame' object has no attribute 'pool_contract_address'"
     ]
    }
   ],
   "source": [
    "df = swap_df.loc[swap_df[\"pool_contract_address\"] == pool_address.lower()]\n",
    "df"
   ]
  },
  {
   "cell_type": "markdown",
   "metadata": {},
   "source": [
    "In Uniswap V3, we can get pool's price from pool's tick."
   ]
  },
  {
   "cell_type": "code",
   "execution_count": null,
   "metadata": {},
   "outputs": [],
   "source": [
    "def convert_price(row):\n",
    "    # USDC/WETH pool has reverse token order, so let's flip it WETH/USDC\n",
    "    tick = row[\"tick\"]\n",
    "    return pool_details.convert_price_to_human(tick, reverse_token_order=True)\n",
    "\n",
    "def convert_value(row):\n",
    "    # USDC is token0 and amount0\n",
    "    price = float(row[\"price\"])\n",
    "    return abs(float(row[\"amount0\"])) / (10**pool_details.token0.decimals)\n",
    "\n",
    "df = df.copy(deep=True)  # https://stackoverflow.com/a/60885847/315168\n",
    "df[\"price\"] = df.apply(convert_price, axis=1)\n",
    "df[\"value\"] = df.apply(convert_value, axis=1)\n",
    "display(df[[\"block_number\", \"timestamp\", \"tick\", \"price\", \"value\"]])"
   ]
  },
  {
   "cell_type": "markdown",
   "metadata": {},
   "source": [
    "Then we can convert linear price data to [OHLC candles](https://tradingstrategy.ai/docs/glossary.html#term-OHLCV)."
   ]
  },
  {
   "cell_type": "code",
   "execution_count": null,
   "metadata": {
    "collapsed": false,
    "pycharm": {
     "name": "#%%\n"
    }
   },
   "outputs": [],
   "source": [
    "from eth_defi.research.candle import convert_to_ohlcv_candles\n",
    "\n",
    "candles = convert_to_ohlcv_candles(df, time_bucket=pd.Timedelta(\"4h\"))\n",
    "\n",
    "# Show only 100 first candles\n",
    "candles = candles.head(100)\n",
    "\n",
    "display(candles)"
   ]
  },
  {
   "cell_type": "markdown",
   "metadata": {
    "collapsed": false,
    "pycharm": {
     "name": "#%% md\n"
    }
   },
   "source": [
    "### Drawing OHLCV chart\n",
    "\n",
    "Now we can plot the [OHLC chart using Plotly](https://plotly.com/python/ohlc-charts/)."
   ]
  },
  {
   "cell_type": "code",
   "execution_count": null,
   "metadata": {
    "pycharm": {
     "name": "#%%\n"
    }
   },
   "outputs": [],
   "source": [
    "import plotly.graph_objects as go\n",
    "from plotly.subplots import make_subplots\n",
    "\n",
    "candlesticks = go.Candlestick(\n",
    "    x=candles.index,\n",
    "    open=candles['open'],\n",
    "    high=candles['high'],\n",
    "    low=candles['low'],\n",
    "    close=candles['close'],\n",
    "    showlegend=False\n",
    ")\n",
    "\n",
    "volume_bars = go.Bar(\n",
    "    x=candles.index,\n",
    "    y=candles['volume'],\n",
    "    showlegend=False,\n",
    "    marker={\n",
    "        \"color\": \"rgba(128,128,128,0.5)\",\n",
    "    }\n",
    ")\n",
    "\n",
    "fig = go.Figure(candlesticks)\n",
    "fig = make_subplots(specs=[[{\"secondary_y\": True}]])\n",
    "fig.add_trace(candlesticks, secondary_y=True)\n",
    "fig.add_trace(volume_bars, secondary_y=False)\n",
    "fig.update_layout(title=\"ETH/USDC pool after Uniswap v3 deployment\", height=800)\n",
    "fig.update_yaxes(title=\"Price $\", secondary_y=True, showgrid=True)\n",
    "fig.update_yaxes(title=\"Volume $\", secondary_y=False, showgrid=False)\n",
    "fig.show()"
   ]
  }
 ],
 "metadata": {
  "interpreter": {
   "hash": "9b6697946b59f1cda35d1a9d955611df8679c38ae8cee6d6fc35b656a9a31b3c"
  },
  "kernelspec": {
   "display_name": "Python 3.9.10 ('web3-ethereum-defi-0d8b7oDT-py3.9')",
   "language": "python",
   "name": "python3"
  },
  "language_info": {
   "codemirror_mode": {
    "name": "ipython",
    "version": 3
   },
   "file_extension": ".py",
   "mimetype": "text/x-python",
   "name": "python",
   "nbconvert_exporter": "python",
   "pygments_lexer": "ipython3",
   "version": "3.9.10"
  },
  "orig_nbformat": 4
 },
 "nbformat": 4,
 "nbformat_minor": 2
}
